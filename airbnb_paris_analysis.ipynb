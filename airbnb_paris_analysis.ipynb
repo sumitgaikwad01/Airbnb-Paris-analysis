{
 "cells": [
  {
   "cell_type": "code",
   "execution_count": 362,
   "metadata": {
    "_cell_guid": "b1076dfc-b9ad-4769-8c92-a6c4dae69d19",
    "_uuid": "8f2839f25d086af736a60e9eeb907d3b93b6e0e5",
    "execution": {
     "iopub.execute_input": "2025-09-30T07:03:54.561684Z",
     "iopub.status.busy": "2025-09-30T07:03:54.561381Z",
     "iopub.status.idle": "2025-09-30T07:03:54.571615Z",
     "shell.execute_reply": "2025-09-30T07:03:54.570717Z",
     "shell.execute_reply.started": "2025-09-30T07:03:54.561662Z"
    }
   },
   "outputs": [
    {
     "name": "stdout",
     "output_type": "stream",
     "text": [
      "/kaggle/input/airbnb-listings-reviews/Airbnb Data/Listings.csv\n",
      "/kaggle/input/airbnb-listings-reviews/Airbnb Data/Reviews.csv\n",
      "/kaggle/input/airbnb-listings-reviews/Airbnb Data/Reviews_data_dictionary.csv\n",
      "/kaggle/input/airbnb-listings-reviews/Airbnb Data/Listings_data_dictionary.csv\n"
     ]
    }
   ],
   "source": [
    "# This Python 3 environment comes with many helpful analytics libraries installed\n",
    "# It is defined by the kaggle/python Docker image: https://github.com/kaggle/docker-python\n",
    "# For example, here's several helpful packages to load\n",
    "\n",
    "import numpy as np # linear algebra\n",
    "import pandas as pd # data processing, CSV file I/O (e.g. pd.read_csv)\n",
    "\n",
    "# Input data files are available in the read-only \"../input/\" directory\n",
    "# For example, running this (by clicking run or pressing Shift+Enter) will list all files under the input directory\n",
    "\n",
    "import os\n",
    "for dirname, _, filenames in os.walk('/kaggle/input'):\n",
    "    for filename in filenames:\n",
    "        print(os.path.join(dirname, filename))\n",
    "\n",
    "# You can write up to 20GB to the current directory (/kaggle/working/) that gets preserved as output when you create a version using \"Save & Run All\" \n",
    "# You can also write temporary files to /kaggle/temp/, but they won't be saved outside of the current session"
   ]
  },
  {
   "cell_type": "markdown",
   "metadata": {},
   "source": [
    "<div style=\"\n",
    "    background-color: #2e7d32; \n",
    "    color: white; \n",
    "    padding: 15px; \n",
    "    border-radius: 10px; \n",
    "    text-align: center; \n",
    "    font-size: 28px; \n",
    "    font-weight: bold;\n",
    "\">\n",
    "    Impact of Regulation on AirBnB business in Paris\n",
    "</div>\n"
   ]
  },
  {
   "cell_type": "markdown",
   "metadata": {},
   "source": [
    "![Paris Airbnb View](https://news.airbnb.com/wp-content/uploads/sites/4/2019/06/PJM020719Q202_Luxe_WanakaNZ_LivingRoom_0264-LightOn_R1.jpg?fit=2500%2C1666)"
   ]
  },
  {
   "cell_type": "markdown",
   "metadata": {},
   "source": [
    "This analysis explores the evolution of Airbnb in Paris,examining how regulations,locality trends,and pricing dynamics have shaped host participation and customer demand."
   ]
  },
  {
   "cell_type": "markdown",
   "metadata": {},
   "source": [
    "## Executive Summary\n",
    "\n",
    "- **Rapid Growth Pre-2017**: Airbnb in Paris expanded quickly, with a surge of new hosts entering the market until 2016.  \n",
    "- **Regulatory Shift in 2017**: The introduction of stricter rental regulations slowed new host entries, reducing supply growth.  \n",
    "- **Resilient Demand**: Traveler demand remained strong, leading to a supply-demand gap and upward pressure on prices.  \n",
    "- **Key Opportunities**: Success now depends on focusing on premium localities, implementing dynamic pricing, and adapting to regulatory constraints.  \n"
   ]
  },
  {
   "cell_type": "code",
   "execution_count": 363,
   "metadata": {
    "execution": {
     "iopub.execute_input": "2025-09-30T07:03:54.573538Z",
     "iopub.status.busy": "2025-09-30T07:03:54.573303Z",
     "iopub.status.idle": "2025-09-30T07:03:54.600049Z",
     "shell.execute_reply": "2025-09-30T07:03:54.599313Z",
     "shell.execute_reply.started": "2025-09-30T07:03:54.573518Z"
    }
   },
   "outputs": [],
   "source": [
    "reviews_dict=pd.read_csv(r\"/kaggle/input/airbnb-listings-reviews/Airbnb Data/Reviews_data_dictionary.csv\")"
   ]
  },
  {
   "cell_type": "code",
   "execution_count": 364,
   "metadata": {
    "execution": {
     "iopub.execute_input": "2025-09-30T07:03:54.600963Z",
     "iopub.status.busy": "2025-09-30T07:03:54.600736Z",
     "iopub.status.idle": "2025-09-30T07:03:54.626792Z",
     "shell.execute_reply": "2025-09-30T07:03:54.626002Z",
     "shell.execute_reply.started": "2025-09-30T07:03:54.600944Z"
    }
   },
   "outputs": [
    {
     "data": {
      "text/html": [
       "<div>\n",
       "<style scoped>\n",
       "    .dataframe tbody tr th:only-of-type {\n",
       "        vertical-align: middle;\n",
       "    }\n",
       "\n",
       "    .dataframe tbody tr th {\n",
       "        vertical-align: top;\n",
       "    }\n",
       "\n",
       "    .dataframe thead th {\n",
       "        text-align: right;\n",
       "    }\n",
       "</style>\n",
       "<table border=\"1\" class=\"dataframe\">\n",
       "  <thead>\n",
       "    <tr style=\"text-align: right;\">\n",
       "      <th></th>\n",
       "      <th>Field</th>\n",
       "      <th>Description</th>\n",
       "    </tr>\n",
       "  </thead>\n",
       "  <tbody>\n",
       "    <tr>\n",
       "      <th>0</th>\n",
       "      <td>listing_id</td>\n",
       "      <td>Listing ID</td>\n",
       "    </tr>\n",
       "    <tr>\n",
       "      <th>1</th>\n",
       "      <td>review_id</td>\n",
       "      <td>Review ID</td>\n",
       "    </tr>\n",
       "    <tr>\n",
       "      <th>2</th>\n",
       "      <td>date</td>\n",
       "      <td>Review date</td>\n",
       "    </tr>\n",
       "    <tr>\n",
       "      <th>3</th>\n",
       "      <td>reviewer_id</td>\n",
       "      <td>Reviewer ID</td>\n",
       "    </tr>\n",
       "  </tbody>\n",
       "</table>\n",
       "</div>"
      ],
      "text/plain": [
       "         Field  Description\n",
       "0   listing_id   Listing ID\n",
       "1    review_id    Review ID\n",
       "2         date  Review date\n",
       "3  reviewer_id  Reviewer ID"
      ]
     },
     "execution_count": 364,
     "metadata": {},
     "output_type": "execute_result"
    }
   ],
   "source": [
    "reviews_dict"
   ]
  },
  {
   "cell_type": "code",
   "execution_count": 365,
   "metadata": {
    "execution": {
     "iopub.execute_input": "2025-09-30T07:03:54.627821Z",
     "iopub.status.busy": "2025-09-30T07:03:54.627593Z",
     "iopub.status.idle": "2025-09-30T07:03:56.517566Z",
     "shell.execute_reply": "2025-09-30T07:03:56.516097Z",
     "shell.execute_reply.started": "2025-09-30T07:03:54.627800Z"
    }
   },
   "outputs": [],
   "source": [
    "reviews=pd.read_csv(r\"/kaggle/input/airbnb-listings-reviews/Airbnb Data/Reviews.csv\")"
   ]
  },
  {
   "cell_type": "code",
   "execution_count": 366,
   "metadata": {
    "execution": {
     "iopub.execute_input": "2025-09-30T07:03:56.520621Z",
     "iopub.status.busy": "2025-09-30T07:03:56.519802Z",
     "iopub.status.idle": "2025-09-30T07:03:56.529208Z",
     "shell.execute_reply": "2025-09-30T07:03:56.528069Z",
     "shell.execute_reply.started": "2025-09-30T07:03:56.520582Z"
    }
   },
   "outputs": [
    {
     "data": {
      "text/html": [
       "<div>\n",
       "<style scoped>\n",
       "    .dataframe tbody tr th:only-of-type {\n",
       "        vertical-align: middle;\n",
       "    }\n",
       "\n",
       "    .dataframe tbody tr th {\n",
       "        vertical-align: top;\n",
       "    }\n",
       "\n",
       "    .dataframe thead th {\n",
       "        text-align: right;\n",
       "    }\n",
       "</style>\n",
       "<table border=\"1\" class=\"dataframe\">\n",
       "  <thead>\n",
       "    <tr style=\"text-align: right;\">\n",
       "      <th></th>\n",
       "      <th>listing_id</th>\n",
       "      <th>review_id</th>\n",
       "      <th>date</th>\n",
       "      <th>reviewer_id</th>\n",
       "    </tr>\n",
       "  </thead>\n",
       "  <tbody>\n",
       "    <tr>\n",
       "      <th>0</th>\n",
       "      <td>11798</td>\n",
       "      <td>330265172</td>\n",
       "      <td>2018-09-30</td>\n",
       "      <td>11863072</td>\n",
       "    </tr>\n",
       "    <tr>\n",
       "      <th>1</th>\n",
       "      <td>15383</td>\n",
       "      <td>330103585</td>\n",
       "      <td>2018-09-30</td>\n",
       "      <td>39147453</td>\n",
       "    </tr>\n",
       "    <tr>\n",
       "      <th>2</th>\n",
       "      <td>16455</td>\n",
       "      <td>329985788</td>\n",
       "      <td>2018-09-30</td>\n",
       "      <td>1125378</td>\n",
       "    </tr>\n",
       "    <tr>\n",
       "      <th>3</th>\n",
       "      <td>17919</td>\n",
       "      <td>330016899</td>\n",
       "      <td>2018-09-30</td>\n",
       "      <td>172717984</td>\n",
       "    </tr>\n",
       "    <tr>\n",
       "      <th>4</th>\n",
       "      <td>26827</td>\n",
       "      <td>329995638</td>\n",
       "      <td>2018-09-30</td>\n",
       "      <td>17542859</td>\n",
       "    </tr>\n",
       "  </tbody>\n",
       "</table>\n",
       "</div>"
      ],
      "text/plain": [
       "   listing_id  review_id        date  reviewer_id\n",
       "0       11798  330265172  2018-09-30     11863072\n",
       "1       15383  330103585  2018-09-30     39147453\n",
       "2       16455  329985788  2018-09-30      1125378\n",
       "3       17919  330016899  2018-09-30    172717984\n",
       "4       26827  329995638  2018-09-30     17542859"
      ]
     },
     "execution_count": 366,
     "metadata": {},
     "output_type": "execute_result"
    }
   ],
   "source": [
    "reviews.head()"
   ]
  },
  {
   "cell_type": "markdown",
   "metadata": {},
   "source": [
    "<div style=\"\n",
    "    background-color: #2e7d32; \n",
    "    color: white; \n",
    "    padding: 15px; \n",
    "    border-radius: 10px; \n",
    "    text-align: center; \n",
    "    font-size: 28px; \n",
    "    font-weight: bold;\n",
    "\">\n",
    "    Importing Data and Exploring Column Information\n",
    "</div>\n"
   ]
  },
  {
   "cell_type": "code",
   "execution_count": 367,
   "metadata": {
    "execution": {
     "iopub.execute_input": "2025-09-30T07:03:56.530306Z",
     "iopub.status.busy": "2025-09-30T07:03:56.530067Z",
     "iopub.status.idle": "2025-09-30T07:03:56.558040Z",
     "shell.execute_reply": "2025-09-30T07:03:56.557148Z",
     "shell.execute_reply.started": "2025-09-30T07:03:56.530287Z"
    }
   },
   "outputs": [],
   "source": [
    "listings_dict=pd.read_csv(r\"/kaggle/input/airbnb-listings-reviews/Airbnb Data/Listings_data_dictionary.csv\")"
   ]
  },
  {
   "cell_type": "code",
   "execution_count": 368,
   "metadata": {
    "execution": {
     "iopub.execute_input": "2025-09-30T07:03:56.559308Z",
     "iopub.status.busy": "2025-09-30T07:03:56.558883Z",
     "iopub.status.idle": "2025-09-30T07:03:56.575952Z",
     "shell.execute_reply": "2025-09-30T07:03:56.574448Z",
     "shell.execute_reply.started": "2025-09-30T07:03:56.559241Z"
    }
   },
   "outputs": [
    {
     "data": {
      "text/html": [
       "<div>\n",
       "<style scoped>\n",
       "    .dataframe tbody tr th:only-of-type {\n",
       "        vertical-align: middle;\n",
       "    }\n",
       "\n",
       "    .dataframe tbody tr th {\n",
       "        vertical-align: top;\n",
       "    }\n",
       "\n",
       "    .dataframe thead th {\n",
       "        text-align: right;\n",
       "    }\n",
       "</style>\n",
       "<table border=\"1\" class=\"dataframe\">\n",
       "  <thead>\n",
       "    <tr style=\"text-align: right;\">\n",
       "      <th></th>\n",
       "      <th>Field</th>\n",
       "      <th>Description</th>\n",
       "    </tr>\n",
       "  </thead>\n",
       "  <tbody>\n",
       "    <tr>\n",
       "      <th>0</th>\n",
       "      <td>listing_id</td>\n",
       "      <td>Listing ID</td>\n",
       "    </tr>\n",
       "    <tr>\n",
       "      <th>1</th>\n",
       "      <td>name</td>\n",
       "      <td>Listing Name</td>\n",
       "    </tr>\n",
       "    <tr>\n",
       "      <th>2</th>\n",
       "      <td>host_id</td>\n",
       "      <td>Host ID</td>\n",
       "    </tr>\n",
       "    <tr>\n",
       "      <th>3</th>\n",
       "      <td>host_since</td>\n",
       "      <td>Date the Host joined Airbnb</td>\n",
       "    </tr>\n",
       "    <tr>\n",
       "      <th>4</th>\n",
       "      <td>host_location</td>\n",
       "      <td>Location where the Host is based</td>\n",
       "    </tr>\n",
       "    <tr>\n",
       "      <th>5</th>\n",
       "      <td>host_response_time</td>\n",
       "      <td>Estimate of how long the Host takes to respond</td>\n",
       "    </tr>\n",
       "    <tr>\n",
       "      <th>6</th>\n",
       "      <td>host_response_rate</td>\n",
       "      <td>Percentage of times the Host responds</td>\n",
       "    </tr>\n",
       "    <tr>\n",
       "      <th>7</th>\n",
       "      <td>host_acceptance_rate</td>\n",
       "      <td>Percentage of times the Host accepts a booking...</td>\n",
       "    </tr>\n",
       "    <tr>\n",
       "      <th>8</th>\n",
       "      <td>host_is_superhost</td>\n",
       "      <td>Binary field to determine if the Host is a Sup...</td>\n",
       "    </tr>\n",
       "    <tr>\n",
       "      <th>9</th>\n",
       "      <td>host_total_listings_count</td>\n",
       "      <td>Total listings the Host has in Airbnb</td>\n",
       "    </tr>\n",
       "    <tr>\n",
       "      <th>10</th>\n",
       "      <td>host_has_profile_pic</td>\n",
       "      <td>Binary field to determine if the Host has a pr...</td>\n",
       "    </tr>\n",
       "    <tr>\n",
       "      <th>11</th>\n",
       "      <td>host_identity_verified</td>\n",
       "      <td>Binary field to determine if the Host has a ve...</td>\n",
       "    </tr>\n",
       "    <tr>\n",
       "      <th>12</th>\n",
       "      <td>neighbourhood</td>\n",
       "      <td>Neighborhood the Listing is in</td>\n",
       "    </tr>\n",
       "    <tr>\n",
       "      <th>13</th>\n",
       "      <td>district</td>\n",
       "      <td>District the Listing is in</td>\n",
       "    </tr>\n",
       "    <tr>\n",
       "      <th>14</th>\n",
       "      <td>city</td>\n",
       "      <td>City the Listing is in</td>\n",
       "    </tr>\n",
       "    <tr>\n",
       "      <th>15</th>\n",
       "      <td>latitude</td>\n",
       "      <td>Listing's latitude</td>\n",
       "    </tr>\n",
       "    <tr>\n",
       "      <th>16</th>\n",
       "      <td>longitude</td>\n",
       "      <td>Listing's longitude</td>\n",
       "    </tr>\n",
       "    <tr>\n",
       "      <th>17</th>\n",
       "      <td>property_type</td>\n",
       "      <td>Type of property for the Listing</td>\n",
       "    </tr>\n",
       "    <tr>\n",
       "      <th>18</th>\n",
       "      <td>room_type</td>\n",
       "      <td>Type of room type in Airbnb for the Listing</td>\n",
       "    </tr>\n",
       "    <tr>\n",
       "      <th>19</th>\n",
       "      <td>accommodates</td>\n",
       "      <td>Guests the Listing accomodates</td>\n",
       "    </tr>\n",
       "    <tr>\n",
       "      <th>20</th>\n",
       "      <td>bedrooms</td>\n",
       "      <td>Bedrooms in the Listing</td>\n",
       "    </tr>\n",
       "    <tr>\n",
       "      <th>21</th>\n",
       "      <td>amenities</td>\n",
       "      <td>Amenities the Listing includes</td>\n",
       "    </tr>\n",
       "    <tr>\n",
       "      <th>22</th>\n",
       "      <td>price</td>\n",
       "      <td>Listing price (in each country's currency)</td>\n",
       "    </tr>\n",
       "    <tr>\n",
       "      <th>23</th>\n",
       "      <td>minimum_nights</td>\n",
       "      <td>Minimum nights per booking</td>\n",
       "    </tr>\n",
       "    <tr>\n",
       "      <th>24</th>\n",
       "      <td>maximum_nights</td>\n",
       "      <td>Maximum nights per booking</td>\n",
       "    </tr>\n",
       "    <tr>\n",
       "      <th>25</th>\n",
       "      <td>review_scores_rating</td>\n",
       "      <td>Listing's overall rating (out of 100)</td>\n",
       "    </tr>\n",
       "    <tr>\n",
       "      <th>26</th>\n",
       "      <td>review_scores_accuracy</td>\n",
       "      <td>Listing's accuracy score based on what's promo...</td>\n",
       "    </tr>\n",
       "    <tr>\n",
       "      <th>27</th>\n",
       "      <td>review_scores_cleanliness</td>\n",
       "      <td>Listing's cleanliness score (out of 10)</td>\n",
       "    </tr>\n",
       "    <tr>\n",
       "      <th>28</th>\n",
       "      <td>review_scores_checkin</td>\n",
       "      <td>Listing's check-in experience score (out of 10)</td>\n",
       "    </tr>\n",
       "    <tr>\n",
       "      <th>29</th>\n",
       "      <td>review_scores_communication</td>\n",
       "      <td>Listing's communication with the Host score (o...</td>\n",
       "    </tr>\n",
       "    <tr>\n",
       "      <th>30</th>\n",
       "      <td>review_scores_location</td>\n",
       "      <td>Listing's location score within the city (out ...</td>\n",
       "    </tr>\n",
       "    <tr>\n",
       "      <th>31</th>\n",
       "      <td>review_scores_value</td>\n",
       "      <td>Listing's value score relative to its price (o...</td>\n",
       "    </tr>\n",
       "    <tr>\n",
       "      <th>32</th>\n",
       "      <td>instant_bookable</td>\n",
       "      <td>Binary field to determine if the Listing can b...</td>\n",
       "    </tr>\n",
       "  </tbody>\n",
       "</table>\n",
       "</div>"
      ],
      "text/plain": [
       "                          Field  \\\n",
       "0                    listing_id   \n",
       "1                          name   \n",
       "2                       host_id   \n",
       "3                    host_since   \n",
       "4                 host_location   \n",
       "5            host_response_time   \n",
       "6            host_response_rate   \n",
       "7          host_acceptance_rate   \n",
       "8             host_is_superhost   \n",
       "9     host_total_listings_count   \n",
       "10         host_has_profile_pic   \n",
       "11       host_identity_verified   \n",
       "12                neighbourhood   \n",
       "13                     district   \n",
       "14                         city   \n",
       "15                     latitude   \n",
       "16                    longitude   \n",
       "17                property_type   \n",
       "18                    room_type   \n",
       "19                 accommodates   \n",
       "20                     bedrooms   \n",
       "21                    amenities   \n",
       "22                        price   \n",
       "23               minimum_nights   \n",
       "24               maximum_nights   \n",
       "25         review_scores_rating   \n",
       "26       review_scores_accuracy   \n",
       "27    review_scores_cleanliness   \n",
       "28        review_scores_checkin   \n",
       "29  review_scores_communication   \n",
       "30       review_scores_location   \n",
       "31          review_scores_value   \n",
       "32             instant_bookable   \n",
       "\n",
       "                                          Description  \n",
       "0                                          Listing ID  \n",
       "1                                        Listing Name  \n",
       "2                                             Host ID  \n",
       "3                         Date the Host joined Airbnb  \n",
       "4                    Location where the Host is based  \n",
       "5      Estimate of how long the Host takes to respond  \n",
       "6               Percentage of times the Host responds  \n",
       "7   Percentage of times the Host accepts a booking...  \n",
       "8   Binary field to determine if the Host is a Sup...  \n",
       "9               Total listings the Host has in Airbnb  \n",
       "10  Binary field to determine if the Host has a pr...  \n",
       "11  Binary field to determine if the Host has a ve...  \n",
       "12                     Neighborhood the Listing is in  \n",
       "13                         District the Listing is in  \n",
       "14                             City the Listing is in  \n",
       "15                                 Listing's latitude  \n",
       "16                                Listing's longitude  \n",
       "17                   Type of property for the Listing  \n",
       "18        Type of room type in Airbnb for the Listing  \n",
       "19                     Guests the Listing accomodates  \n",
       "20                            Bedrooms in the Listing  \n",
       "21                     Amenities the Listing includes  \n",
       "22         Listing price (in each country's currency)  \n",
       "23                         Minimum nights per booking  \n",
       "24                         Maximum nights per booking  \n",
       "25              Listing's overall rating (out of 100)  \n",
       "26  Listing's accuracy score based on what's promo...  \n",
       "27            Listing's cleanliness score (out of 10)  \n",
       "28    Listing's check-in experience score (out of 10)  \n",
       "29  Listing's communication with the Host score (o...  \n",
       "30  Listing's location score within the city (out ...  \n",
       "31  Listing's value score relative to its price (o...  \n",
       "32  Binary field to determine if the Listing can b...  "
      ]
     },
     "execution_count": 368,
     "metadata": {},
     "output_type": "execute_result"
    }
   ],
   "source": [
    "listings_dict"
   ]
  },
  {
   "cell_type": "code",
   "execution_count": 369,
   "metadata": {
    "execution": {
     "iopub.execute_input": "2025-09-30T07:03:56.577428Z",
     "iopub.status.busy": "2025-09-30T07:03:56.577087Z",
     "iopub.status.idle": "2025-09-30T07:03:59.340045Z",
     "shell.execute_reply": "2025-09-30T07:03:59.339329Z",
     "shell.execute_reply.started": "2025-09-30T07:03:56.577399Z"
    }
   },
   "outputs": [],
   "source": [
    "listings=pd.read_csv(r\"/kaggle/input/airbnb-listings-reviews/Airbnb Data/Listings.csv\",encoding=\"ISO-8859-1\",low_memory=False)\n"
   ]
  },
  {
   "cell_type": "code",
   "execution_count": 370,
   "metadata": {
    "execution": {
     "iopub.execute_input": "2025-09-30T07:03:59.340951Z",
     "iopub.status.busy": "2025-09-30T07:03:59.340723Z",
     "iopub.status.idle": "2025-09-30T07:03:59.345101Z",
     "shell.execute_reply": "2025-09-30T07:03:59.344329Z",
     "shell.execute_reply.started": "2025-09-30T07:03:59.340925Z"
    }
   },
   "outputs": [],
   "source": [
    "import warnings\n",
    "warnings.filterwarnings(\"ignore\")"
   ]
  },
  {
   "cell_type": "code",
   "execution_count": 371,
   "metadata": {
    "execution": {
     "iopub.execute_input": "2025-09-30T07:03:59.346045Z",
     "iopub.status.busy": "2025-09-30T07:03:59.345866Z",
     "iopub.status.idle": "2025-09-30T07:03:59.450878Z",
     "shell.execute_reply": "2025-09-30T07:03:59.450057Z",
     "shell.execute_reply.started": "2025-09-30T07:03:59.346031Z"
    }
   },
   "outputs": [
    {
     "data": {
      "text/html": [
       "<div>\n",
       "<style scoped>\n",
       "    .dataframe tbody tr th:only-of-type {\n",
       "        vertical-align: middle;\n",
       "    }\n",
       "\n",
       "    .dataframe tbody tr th {\n",
       "        vertical-align: top;\n",
       "    }\n",
       "\n",
       "    .dataframe thead th {\n",
       "        text-align: right;\n",
       "    }\n",
       "</style>\n",
       "<table border=\"1\" class=\"dataframe\">\n",
       "  <thead>\n",
       "    <tr style=\"text-align: right;\">\n",
       "      <th></th>\n",
       "      <th>listing_id</th>\n",
       "      <th>name</th>\n",
       "      <th>host_id</th>\n",
       "      <th>host_since</th>\n",
       "      <th>host_location</th>\n",
       "      <th>host_response_time</th>\n",
       "      <th>host_response_rate</th>\n",
       "      <th>host_acceptance_rate</th>\n",
       "      <th>host_is_superhost</th>\n",
       "      <th>host_total_listings_count</th>\n",
       "      <th>...</th>\n",
       "      <th>minimum_nights</th>\n",
       "      <th>maximum_nights</th>\n",
       "      <th>review_scores_rating</th>\n",
       "      <th>review_scores_accuracy</th>\n",
       "      <th>review_scores_cleanliness</th>\n",
       "      <th>review_scores_checkin</th>\n",
       "      <th>review_scores_communication</th>\n",
       "      <th>review_scores_location</th>\n",
       "      <th>review_scores_value</th>\n",
       "      <th>instant_bookable</th>\n",
       "    </tr>\n",
       "  </thead>\n",
       "  <tbody>\n",
       "    <tr>\n",
       "      <th>0</th>\n",
       "      <td>281420</td>\n",
       "      <td>Beautiful Flat in le Village Montmartre, Paris</td>\n",
       "      <td>1466919</td>\n",
       "      <td>2011-12-03</td>\n",
       "      <td>Paris, Ile-de-France, France</td>\n",
       "      <td>NaN</td>\n",
       "      <td>NaN</td>\n",
       "      <td>NaN</td>\n",
       "      <td>f</td>\n",
       "      <td>1.0</td>\n",
       "      <td>...</td>\n",
       "      <td>2</td>\n",
       "      <td>1125</td>\n",
       "      <td>100.0</td>\n",
       "      <td>10.0</td>\n",
       "      <td>10.0</td>\n",
       "      <td>10.0</td>\n",
       "      <td>10.0</td>\n",
       "      <td>10.0</td>\n",
       "      <td>10.0</td>\n",
       "      <td>f</td>\n",
       "    </tr>\n",
       "    <tr>\n",
       "      <th>1</th>\n",
       "      <td>3705183</td>\n",
       "      <td>39 mÃÂ² Paris (Sacre CÃ",
       "âur)</td>\n",
       "      <td>10328771</td>\n",
       "      <td>2013-11-29</td>\n",
       "      <td>Paris, Ile-de-France, France</td>\n",
       "      <td>NaN</td>\n",
       "      <td>NaN</td>\n",
       "      <td>NaN</td>\n",
       "      <td>f</td>\n",
       "      <td>1.0</td>\n",
       "      <td>...</td>\n",
       "      <td>2</td>\n",
       "      <td>1125</td>\n",
       "      <td>100.0</td>\n",
       "      <td>10.0</td>\n",
       "      <td>10.0</td>\n",
       "      <td>10.0</td>\n",
       "      <td>10.0</td>\n",
       "      <td>10.0</td>\n",
       "      <td>10.0</td>\n",
       "      <td>f</td>\n",
       "    </tr>\n",
       "    <tr>\n",
       "      <th>2</th>\n",
       "      <td>4082273</td>\n",
       "      <td>Lovely apartment with Terrace, 60m2</td>\n",
       "      <td>19252768</td>\n",
       "      <td>2014-07-31</td>\n",
       "      <td>Paris, Ile-de-France, France</td>\n",
       "      <td>NaN</td>\n",
       "      <td>NaN</td>\n",
       "      <td>NaN</td>\n",
       "      <td>f</td>\n",
       "      <td>1.0</td>\n",
       "      <td>...</td>\n",
       "      <td>2</td>\n",
       "      <td>1125</td>\n",
       "      <td>100.0</td>\n",
       "      <td>10.0</td>\n",
       "      <td>10.0</td>\n",
       "      <td>10.0</td>\n",
       "      <td>10.0</td>\n",
       "      <td>10.0</td>\n",
       "      <td>10.0</td>\n",
       "      <td>f</td>\n",
       "    </tr>\n",
       "    <tr>\n",
       "      <th>3</th>\n",
       "      <td>4797344</td>\n",
       "      <td>Cosy studio (close to Eiffel tower)</td>\n",
       "      <td>10668311</td>\n",
       "      <td>2013-12-17</td>\n",
       "      <td>Paris, Ile-de-France, France</td>\n",
       "      <td>NaN</td>\n",
       "      <td>NaN</td>\n",
       "      <td>NaN</td>\n",
       "      <td>f</td>\n",
       "      <td>1.0</td>\n",
       "      <td>...</td>\n",
       "      <td>2</td>\n",
       "      <td>1125</td>\n",
       "      <td>100.0</td>\n",
       "      <td>10.0</td>\n",
       "      <td>10.0</td>\n",
       "      <td>10.0</td>\n",
       "      <td>10.0</td>\n",
       "      <td>10.0</td>\n",
       "      <td>10.0</td>\n",
       "      <td>f</td>\n",
       "    </tr>\n",
       "    <tr>\n",
       "      <th>4</th>\n",
       "      <td>4823489</td>\n",
       "      <td>Close to Eiffel Tower - Beautiful flat : 2 rooms</td>\n",
       "      <td>24837558</td>\n",
       "      <td>2014-12-14</td>\n",
       "      <td>Paris, Ile-de-France, France</td>\n",
       "      <td>NaN</td>\n",
       "      <td>NaN</td>\n",
       "      <td>NaN</td>\n",
       "      <td>f</td>\n",
       "      <td>1.0</td>\n",
       "      <td>...</td>\n",
       "      <td>2</td>\n",
       "      <td>1125</td>\n",
       "      <td>100.0</td>\n",
       "      <td>10.0</td>\n",
       "      <td>10.0</td>\n",
       "      <td>10.0</td>\n",
       "      <td>10.0</td>\n",
       "      <td>10.0</td>\n",
       "      <td>10.0</td>\n",
       "      <td>f</td>\n",
       "    </tr>\n",
       "    <tr>\n",
       "      <th>...</th>\n",
       "      <td>...</td>\n",
       "      <td>...</td>\n",
       "      <td>...</td>\n",
       "      <td>...</td>\n",
       "      <td>...</td>\n",
       "      <td>...</td>\n",
       "      <td>...</td>\n",
       "      <td>...</td>\n",
       "      <td>...</td>\n",
       "      <td>...</td>\n",
       "      <td>...</td>\n",
       "      <td>...</td>\n",
       "      <td>...</td>\n",
       "      <td>...</td>\n",
       "      <td>...</td>\n",
       "      <td>...</td>\n",
       "      <td>...</td>\n",
       "      <td>...</td>\n",
       "      <td>...</td>\n",
       "      <td>...</td>\n",
       "      <td>...</td>\n",
       "    </tr>\n",
       "    <tr>\n",
       "      <th>279707</th>\n",
       "      <td>38338635</td>\n",
       "      <td>Appartement T2 neuf prÃÂ¨s du tram T3a Porte ...</td>\n",
       "      <td>31161181</td>\n",
       "      <td>2015-04-13</td>\n",
       "      <td>Paris, Ile-de-France, France</td>\n",
       "      <td>NaN</td>\n",
       "      <td>NaN</td>\n",
       "      <td>NaN</td>\n",
       "      <td>f</td>\n",
       "      <td>1.0</td>\n",
       "      <td>...</td>\n",
       "      <td>1</td>\n",
       "      <td>7</td>\n",
       "      <td>100.0</td>\n",
       "      <td>10.0</td>\n",
       "      <td>10.0</td>\n",
       "      <td>10.0</td>\n",
       "      <td>10.0</td>\n",
       "      <td>10.0</td>\n",
       "      <td>10.0</td>\n",
       "      <td>f</td>\n",
       "    </tr>\n",
       "    <tr>\n",
       "      <th>279708</th>\n",
       "      <td>38538692</td>\n",
       "      <td>Cozy Studio in Montmartre</td>\n",
       "      <td>10294858</td>\n",
       "      <td>2013-11-27</td>\n",
       "      <td>Paris, Ile-de-France, France</td>\n",
       "      <td>NaN</td>\n",
       "      <td>NaN</td>\n",
       "      <td>NaN</td>\n",
       "      <td>f</td>\n",
       "      <td>1.0</td>\n",
       "      <td>...</td>\n",
       "      <td>7</td>\n",
       "      <td>15</td>\n",
       "      <td>100.0</td>\n",
       "      <td>10.0</td>\n",
       "      <td>10.0</td>\n",
       "      <td>10.0</td>\n",
       "      <td>10.0</td>\n",
       "      <td>10.0</td>\n",
       "      <td>10.0</td>\n",
       "      <td>f</td>\n",
       "    </tr>\n",
       "    <tr>\n",
       "      <th>279709</th>\n",
       "      <td>38683356</td>\n",
       "      <td>Nice and cosy mini-appartement in Paris</td>\n",
       "      <td>2238502</td>\n",
       "      <td>2012-04-27</td>\n",
       "      <td>Paris, Ile-de-France, France</td>\n",
       "      <td>NaN</td>\n",
       "      <td>NaN</td>\n",
       "      <td>NaN</td>\n",
       "      <td>f</td>\n",
       "      <td>1.0</td>\n",
       "      <td>...</td>\n",
       "      <td>6</td>\n",
       "      <td>30</td>\n",
       "      <td>100.0</td>\n",
       "      <td>10.0</td>\n",
       "      <td>10.0</td>\n",
       "      <td>10.0</td>\n",
       "      <td>10.0</td>\n",
       "      <td>10.0</td>\n",
       "      <td>10.0</td>\n",
       "      <td>f</td>\n",
       "    </tr>\n",
       "    <tr>\n",
       "      <th>279710</th>\n",
       "      <td>39659000</td>\n",
       "      <td>Charming apartment near Rue Saint Maur / Oberk...</td>\n",
       "      <td>38633695</td>\n",
       "      <td>2015-07-16</td>\n",
       "      <td>Paris, Ile-de-France, France</td>\n",
       "      <td>NaN</td>\n",
       "      <td>NaN</td>\n",
       "      <td>NaN</td>\n",
       "      <td>f</td>\n",
       "      <td>1.0</td>\n",
       "      <td>...</td>\n",
       "      <td>3</td>\n",
       "      <td>18</td>\n",
       "      <td>100.0</td>\n",
       "      <td>10.0</td>\n",
       "      <td>10.0</td>\n",
       "      <td>10.0</td>\n",
       "      <td>10.0</td>\n",
       "      <td>10.0</td>\n",
       "      <td>10.0</td>\n",
       "      <td>f</td>\n",
       "    </tr>\n",
       "    <tr>\n",
       "      <th>279711</th>\n",
       "      <td>40219504</td>\n",
       "      <td>Cosy apartment with view on Canal St Martin</td>\n",
       "      <td>6955618</td>\n",
       "      <td>2013-06-17</td>\n",
       "      <td>Paris, Ile-de-France, France</td>\n",
       "      <td>NaN</td>\n",
       "      <td>NaN</td>\n",
       "      <td>NaN</td>\n",
       "      <td>f</td>\n",
       "      <td>1.0</td>\n",
       "      <td>...</td>\n",
       "      <td>2</td>\n",
       "      <td>4</td>\n",
       "      <td>100.0</td>\n",
       "      <td>10.0</td>\n",
       "      <td>10.0</td>\n",
       "      <td>10.0</td>\n",
       "      <td>10.0</td>\n",
       "      <td>10.0</td>\n",
       "      <td>10.0</td>\n",
       "      <td>f</td>\n",
       "    </tr>\n",
       "  </tbody>\n",
       "</table>\n",
       "<p>279712 rows × 33 columns</p>\n",
       "</div>"
      ],
      "text/plain": [
       "        listing_id                                               name  \\\n",
       "0           281420     Beautiful Flat in le Village Montmartre, Paris   \n",
       "1          3705183                    39 mÃÂ² Paris (Sacre CÃ\n",
       "âur)   \n",
       "2          4082273                Lovely apartment with Terrace, 60m2   \n",
       "3          4797344                Cosy studio (close to Eiffel tower)   \n",
       "4          4823489   Close to Eiffel Tower - Beautiful flat : 2 rooms   \n",
       "...            ...                                                ...   \n",
       "279707    38338635  Appartement T2 neuf prÃÂ¨s du tram T3a Porte ...   \n",
       "279708    38538692                          Cozy Studio in Montmartre   \n",
       "279709    38683356            Nice and cosy mini-appartement in Paris   \n",
       "279710    39659000  Charming apartment near Rue Saint Maur / Oberk...   \n",
       "279711    40219504        Cosy apartment with view on Canal St Martin   \n",
       "\n",
       "         host_id  host_since                 host_location host_response_time  \\\n",
       "0        1466919  2011-12-03  Paris, Ile-de-France, France                NaN   \n",
       "1       10328771  2013-11-29  Paris, Ile-de-France, France                NaN   \n",
       "2       19252768  2014-07-31  Paris, Ile-de-France, France                NaN   \n",
       "3       10668311  2013-12-17  Paris, Ile-de-France, France                NaN   \n",
       "4       24837558  2014-12-14  Paris, Ile-de-France, France                NaN   \n",
       "...          ...         ...                           ...                ...   \n",
       "279707  31161181  2015-04-13  Paris, Ile-de-France, France                NaN   \n",
       "279708  10294858  2013-11-27  Paris, Ile-de-France, France                NaN   \n",
       "279709   2238502  2012-04-27  Paris, Ile-de-France, France                NaN   \n",
       "279710  38633695  2015-07-16  Paris, Ile-de-France, France                NaN   \n",
       "279711   6955618  2013-06-17  Paris, Ile-de-France, France                NaN   \n",
       "\n",
       "        host_response_rate  host_acceptance_rate host_is_superhost  \\\n",
       "0                      NaN                   NaN                 f   \n",
       "1                      NaN                   NaN                 f   \n",
       "2                      NaN                   NaN                 f   \n",
       "3                      NaN                   NaN                 f   \n",
       "4                      NaN                   NaN                 f   \n",
       "...                    ...                   ...               ...   \n",
       "279707                 NaN                   NaN                 f   \n",
       "279708                 NaN                   NaN                 f   \n",
       "279709                 NaN                   NaN                 f   \n",
       "279710                 NaN                   NaN                 f   \n",
       "279711                 NaN                   NaN                 f   \n",
       "\n",
       "        host_total_listings_count  ... minimum_nights maximum_nights  \\\n",
       "0                             1.0  ...              2           1125   \n",
       "1                             1.0  ...              2           1125   \n",
       "2                             1.0  ...              2           1125   \n",
       "3                             1.0  ...              2           1125   \n",
       "4                             1.0  ...              2           1125   \n",
       "...                           ...  ...            ...            ...   \n",
       "279707                        1.0  ...              1              7   \n",
       "279708                        1.0  ...              7             15   \n",
       "279709                        1.0  ...              6             30   \n",
       "279710                        1.0  ...              3             18   \n",
       "279711                        1.0  ...              2              4   \n",
       "\n",
       "       review_scores_rating review_scores_accuracy review_scores_cleanliness  \\\n",
       "0                     100.0                   10.0                      10.0   \n",
       "1                     100.0                   10.0                      10.0   \n",
       "2                     100.0                   10.0                      10.0   \n",
       "3                     100.0                   10.0                      10.0   \n",
       "4                     100.0                   10.0                      10.0   \n",
       "...                     ...                    ...                       ...   \n",
       "279707                100.0                   10.0                      10.0   \n",
       "279708                100.0                   10.0                      10.0   \n",
       "279709                100.0                   10.0                      10.0   \n",
       "279710                100.0                   10.0                      10.0   \n",
       "279711                100.0                   10.0                      10.0   \n",
       "\n",
       "        review_scores_checkin  review_scores_communication  \\\n",
       "0                        10.0                         10.0   \n",
       "1                        10.0                         10.0   \n",
       "2                        10.0                         10.0   \n",
       "3                        10.0                         10.0   \n",
       "4                        10.0                         10.0   \n",
       "...                       ...                          ...   \n",
       "279707                   10.0                         10.0   \n",
       "279708                   10.0                         10.0   \n",
       "279709                   10.0                         10.0   \n",
       "279710                   10.0                         10.0   \n",
       "279711                   10.0                         10.0   \n",
       "\n",
       "       review_scores_location review_scores_value  instant_bookable  \n",
       "0                        10.0                10.0                 f  \n",
       "1                        10.0                10.0                 f  \n",
       "2                        10.0                10.0                 f  \n",
       "3                        10.0                10.0                 f  \n",
       "4                        10.0                10.0                 f  \n",
       "...                       ...                 ...               ...  \n",
       "279707                   10.0                10.0                 f  \n",
       "279708                   10.0                10.0                 f  \n",
       "279709                   10.0                10.0                 f  \n",
       "279710                   10.0                10.0                 f  \n",
       "279711                   10.0                10.0                 f  \n",
       "\n",
       "[279712 rows x 33 columns]"
      ]
     },
     "execution_count": 371,
     "metadata": {},
     "output_type": "execute_result"
    }
   ],
   "source": [
    "listings"
   ]
  },
  {
   "cell_type": "code",
   "execution_count": 372,
   "metadata": {
    "execution": {
     "iopub.execute_input": "2025-09-30T07:03:59.452533Z",
     "iopub.status.busy": "2025-09-30T07:03:59.452154Z",
     "iopub.status.idle": "2025-09-30T07:03:59.637506Z",
     "shell.execute_reply": "2025-09-30T07:03:59.636339Z",
     "shell.execute_reply.started": "2025-09-30T07:03:59.452503Z"
    }
   },
   "outputs": [
    {
     "name": "stdout",
     "output_type": "stream",
     "text": [
      "<class 'pandas.core.frame.DataFrame'>\n",
      "RangeIndex: 279712 entries, 0 to 279711\n",
      "Data columns (total 33 columns):\n",
      " #   Column                       Non-Null Count   Dtype  \n",
      "---  ------                       --------------   -----  \n",
      " 0   listing_id                   279712 non-null  int64  \n",
      " 1   name                         279537 non-null  object \n",
      " 2   host_id                      279712 non-null  int64  \n",
      " 3   host_since                   279547 non-null  object \n",
      " 4   host_location                278872 non-null  object \n",
      " 5   host_response_time           150930 non-null  object \n",
      " 6   host_response_rate           150930 non-null  float64\n",
      " 7   host_acceptance_rate         166625 non-null  float64\n",
      " 8   host_is_superhost            279547 non-null  object \n",
      " 9   host_total_listings_count    279547 non-null  float64\n",
      " 10  host_has_profile_pic         279547 non-null  object \n",
      " 11  host_identity_verified       279547 non-null  object \n",
      " 12  neighbourhood                279712 non-null  object \n",
      " 13  district                     37012 non-null   object \n",
      " 14  city                         279712 non-null  object \n",
      " 15  latitude                     279712 non-null  float64\n",
      " 16  longitude                    279712 non-null  float64\n",
      " 17  property_type                279712 non-null  object \n",
      " 18  room_type                    279712 non-null  object \n",
      " 19  accommodates                 279712 non-null  int64  \n",
      " 20  bedrooms                     250277 non-null  float64\n",
      " 21  amenities                    279712 non-null  object \n",
      " 22  price                        279712 non-null  int64  \n",
      " 23  minimum_nights               279712 non-null  int64  \n",
      " 24  maximum_nights               279712 non-null  int64  \n",
      " 25  review_scores_rating         188307 non-null  float64\n",
      " 26  review_scores_accuracy       187999 non-null  float64\n",
      " 27  review_scores_cleanliness    188047 non-null  float64\n",
      " 28  review_scores_checkin        187941 non-null  float64\n",
      " 29  review_scores_communication  188025 non-null  float64\n",
      " 30  review_scores_location       187937 non-null  float64\n",
      " 31  review_scores_value          187927 non-null  float64\n",
      " 32  instant_bookable             279712 non-null  object \n",
      "dtypes: float64(13), int64(6), object(14)\n",
      "memory usage: 70.4+ MB\n"
     ]
    }
   ],
   "source": [
    "listings.info()"
   ]
  },
  {
   "cell_type": "code",
   "execution_count": 373,
   "metadata": {
    "execution": {
     "iopub.execute_input": "2025-09-30T07:03:59.638311Z",
     "iopub.status.busy": "2025-09-30T07:03:59.638077Z",
     "iopub.status.idle": "2025-09-30T07:03:59.657330Z",
     "shell.execute_reply": "2025-09-30T07:03:59.656380Z",
     "shell.execute_reply.started": "2025-09-30T07:03:59.638291Z"
    }
   },
   "outputs": [
    {
     "data": {
      "text/plain": [
       "city\n",
       "Paris             64690\n",
       "New York          37012\n",
       "Sydney            33630\n",
       "Rome              27647\n",
       "Rio de Janeiro    26615\n",
       "Istanbul          24519\n",
       "Mexico City       20065\n",
       "Bangkok           19361\n",
       "Cape Town         19086\n",
       "Hong Kong          7087\n",
       "Name: count, dtype: int64"
      ]
     },
     "execution_count": 373,
     "metadata": {},
     "output_type": "execute_result"
    }
   ],
   "source": [
    "listings[\"city\"].value_counts()"
   ]
  },
  {
   "cell_type": "markdown",
   "metadata": {},
   "source": [
    "<div style=\"\n",
    "    background-color: #2e7d32; \n",
    "    color: white; \n",
    "    padding: 15px; \n",
    "    border-radius: 10px; \n",
    "    text-align: center; \n",
    "    font-size: 28px; \n",
    "    font-weight: bold;\n",
    "\">\n",
    "    Filtering rows to show only Paris data along with relevant columns\n",
    "</div>\n"
   ]
  },
  {
   "cell_type": "code",
   "execution_count": 374,
   "metadata": {
    "execution": {
     "iopub.execute_input": "2025-09-30T07:03:59.658364Z",
     "iopub.status.busy": "2025-09-30T07:03:59.658071Z",
     "iopub.status.idle": "2025-09-30T07:03:59.717581Z",
     "shell.execute_reply": "2025-09-30T07:03:59.716358Z",
     "shell.execute_reply.started": "2025-09-30T07:03:59.658338Z"
    }
   },
   "outputs": [],
   "source": [
    "paris_listings=listings[listings[\"city\"]==\"Paris\"]\n",
    "paris_listings=paris_listings.loc[:,[\"listing_id\",\"host_since\",\"neighbourhood\",\"city\",\"accommodates\",\"price\"]]"
   ]
  },
  {
   "cell_type": "code",
   "execution_count": 375,
   "metadata": {
    "execution": {
     "iopub.execute_input": "2025-09-30T07:03:59.721541Z",
     "iopub.status.busy": "2025-09-30T07:03:59.721279Z",
     "iopub.status.idle": "2025-09-30T07:03:59.733515Z",
     "shell.execute_reply": "2025-09-30T07:03:59.732400Z",
     "shell.execute_reply.started": "2025-09-30T07:03:59.721523Z"
    }
   },
   "outputs": [
    {
     "data": {
      "text/html": [
       "<div>\n",
       "<style scoped>\n",
       "    .dataframe tbody tr th:only-of-type {\n",
       "        vertical-align: middle;\n",
       "    }\n",
       "\n",
       "    .dataframe tbody tr th {\n",
       "        vertical-align: top;\n",
       "    }\n",
       "\n",
       "    .dataframe thead th {\n",
       "        text-align: right;\n",
       "    }\n",
       "</style>\n",
       "<table border=\"1\" class=\"dataframe\">\n",
       "  <thead>\n",
       "    <tr style=\"text-align: right;\">\n",
       "      <th></th>\n",
       "      <th>listing_id</th>\n",
       "      <th>host_since</th>\n",
       "      <th>neighbourhood</th>\n",
       "      <th>city</th>\n",
       "      <th>accommodates</th>\n",
       "      <th>price</th>\n",
       "    </tr>\n",
       "  </thead>\n",
       "  <tbody>\n",
       "    <tr>\n",
       "      <th>0</th>\n",
       "      <td>281420</td>\n",
       "      <td>2011-12-03</td>\n",
       "      <td>Buttes-Montmartre</td>\n",
       "      <td>Paris</td>\n",
       "      <td>2</td>\n",
       "      <td>53</td>\n",
       "    </tr>\n",
       "    <tr>\n",
       "      <th>1</th>\n",
       "      <td>3705183</td>\n",
       "      <td>2013-11-29</td>\n",
       "      <td>Buttes-Montmartre</td>\n",
       "      <td>Paris</td>\n",
       "      <td>2</td>\n",
       "      <td>120</td>\n",
       "    </tr>\n",
       "    <tr>\n",
       "      <th>2</th>\n",
       "      <td>4082273</td>\n",
       "      <td>2014-07-31</td>\n",
       "      <td>Elysee</td>\n",
       "      <td>Paris</td>\n",
       "      <td>2</td>\n",
       "      <td>89</td>\n",
       "    </tr>\n",
       "    <tr>\n",
       "      <th>3</th>\n",
       "      <td>4797344</td>\n",
       "      <td>2013-12-17</td>\n",
       "      <td>Vaugirard</td>\n",
       "      <td>Paris</td>\n",
       "      <td>2</td>\n",
       "      <td>58</td>\n",
       "    </tr>\n",
       "    <tr>\n",
       "      <th>4</th>\n",
       "      <td>4823489</td>\n",
       "      <td>2014-12-14</td>\n",
       "      <td>Passy</td>\n",
       "      <td>Paris</td>\n",
       "      <td>2</td>\n",
       "      <td>60</td>\n",
       "    </tr>\n",
       "    <tr>\n",
       "      <th>...</th>\n",
       "      <td>...</td>\n",
       "      <td>...</td>\n",
       "      <td>...</td>\n",
       "      <td>...</td>\n",
       "      <td>...</td>\n",
       "      <td>...</td>\n",
       "    </tr>\n",
       "    <tr>\n",
       "      <th>279707</th>\n",
       "      <td>38338635</td>\n",
       "      <td>2015-04-13</td>\n",
       "      <td>Observatoire</td>\n",
       "      <td>Paris</td>\n",
       "      <td>2</td>\n",
       "      <td>120</td>\n",
       "    </tr>\n",
       "    <tr>\n",
       "      <th>279708</th>\n",
       "      <td>38538692</td>\n",
       "      <td>2013-11-27</td>\n",
       "      <td>Buttes-Montmartre</td>\n",
       "      <td>Paris</td>\n",
       "      <td>2</td>\n",
       "      <td>60</td>\n",
       "    </tr>\n",
       "    <tr>\n",
       "      <th>279709</th>\n",
       "      <td>38683356</td>\n",
       "      <td>2012-04-27</td>\n",
       "      <td>Buttes-Montmartre</td>\n",
       "      <td>Paris</td>\n",
       "      <td>2</td>\n",
       "      <td>50</td>\n",
       "    </tr>\n",
       "    <tr>\n",
       "      <th>279710</th>\n",
       "      <td>39659000</td>\n",
       "      <td>2015-07-16</td>\n",
       "      <td>Popincourt</td>\n",
       "      <td>Paris</td>\n",
       "      <td>2</td>\n",
       "      <td>105</td>\n",
       "    </tr>\n",
       "    <tr>\n",
       "      <th>279711</th>\n",
       "      <td>40219504</td>\n",
       "      <td>2013-06-17</td>\n",
       "      <td>Enclos-St-Laurent</td>\n",
       "      <td>Paris</td>\n",
       "      <td>2</td>\n",
       "      <td>70</td>\n",
       "    </tr>\n",
       "  </tbody>\n",
       "</table>\n",
       "<p>64690 rows × 6 columns</p>\n",
       "</div>"
      ],
      "text/plain": [
       "        listing_id  host_since      neighbourhood   city  accommodates  price\n",
       "0           281420  2011-12-03  Buttes-Montmartre  Paris             2     53\n",
       "1          3705183  2013-11-29  Buttes-Montmartre  Paris             2    120\n",
       "2          4082273  2014-07-31             Elysee  Paris             2     89\n",
       "3          4797344  2013-12-17          Vaugirard  Paris             2     58\n",
       "4          4823489  2014-12-14              Passy  Paris             2     60\n",
       "...            ...         ...                ...    ...           ...    ...\n",
       "279707    38338635  2015-04-13       Observatoire  Paris             2    120\n",
       "279708    38538692  2013-11-27  Buttes-Montmartre  Paris             2     60\n",
       "279709    38683356  2012-04-27  Buttes-Montmartre  Paris             2     50\n",
       "279710    39659000  2015-07-16         Popincourt  Paris             2    105\n",
       "279711    40219504  2013-06-17  Enclos-St-Laurent  Paris             2     70\n",
       "\n",
       "[64690 rows x 6 columns]"
      ]
     },
     "execution_count": 375,
     "metadata": {},
     "output_type": "execute_result"
    }
   ],
   "source": [
    "paris_listings"
   ]
  },
  {
   "cell_type": "code",
   "execution_count": 376,
   "metadata": {
    "execution": {
     "iopub.execute_input": "2025-09-30T07:03:59.734556Z",
     "iopub.status.busy": "2025-09-30T07:03:59.734316Z",
     "iopub.status.idle": "2025-09-30T07:03:59.763768Z",
     "shell.execute_reply": "2025-09-30T07:03:59.762419Z",
     "shell.execute_reply.started": "2025-09-30T07:03:59.734533Z"
    }
   },
   "outputs": [
    {
     "name": "stdout",
     "output_type": "stream",
     "text": [
      "<class 'pandas.core.frame.DataFrame'>\n",
      "Index: 64690 entries, 0 to 279711\n",
      "Data columns (total 6 columns):\n",
      " #   Column         Non-Null Count  Dtype \n",
      "---  ------         --------------  ----- \n",
      " 0   listing_id     64690 non-null  int64 \n",
      " 1   host_since     64657 non-null  object\n",
      " 2   neighbourhood  64690 non-null  object\n",
      " 3   city           64690 non-null  object\n",
      " 4   accommodates   64690 non-null  int64 \n",
      " 5   price          64690 non-null  int64 \n",
      "dtypes: int64(3), object(3)\n",
      "memory usage: 3.5+ MB\n"
     ]
    }
   ],
   "source": [
    "paris_listings.info()"
   ]
  },
  {
   "cell_type": "code",
   "execution_count": 377,
   "metadata": {
    "execution": {
     "iopub.execute_input": "2025-09-30T07:03:59.765662Z",
     "iopub.status.busy": "2025-09-30T07:03:59.765221Z",
     "iopub.status.idle": "2025-09-30T07:03:59.791682Z",
     "shell.execute_reply": "2025-09-30T07:03:59.790974Z",
     "shell.execute_reply.started": "2025-09-30T07:03:59.765635Z"
    }
   },
   "outputs": [
    {
     "data": {
      "text/plain": [
       "listing_id        0\n",
       "host_since       33\n",
       "neighbourhood     0\n",
       "city              0\n",
       "accommodates      0\n",
       "price             0\n",
       "dtype: int64"
      ]
     },
     "execution_count": 377,
     "metadata": {},
     "output_type": "execute_result"
    }
   ],
   "source": [
    "paris_listings.isna().sum()"
   ]
  },
  {
   "cell_type": "markdown",
   "metadata": {},
   "source": [
    "<div style=\"\n",
    "    background-color: #2e7d32; \n",
    "    color: white; \n",
    "    padding: 15px; \n",
    "    border-radius: 10px; \n",
    "    text-align: center; \n",
    "    font-size: 28px; \n",
    "    font-weight: bold;\n",
    "\">\n",
    "    Removing nulls\n",
    "</div>\n"
   ]
  },
  {
   "cell_type": "code",
   "execution_count": 378,
   "metadata": {
    "execution": {
     "iopub.execute_input": "2025-09-30T07:03:59.792665Z",
     "iopub.status.busy": "2025-09-30T07:03:59.792387Z",
     "iopub.status.idle": "2025-09-30T07:03:59.820192Z",
     "shell.execute_reply": "2025-09-30T07:03:59.819242Z",
     "shell.execute_reply.started": "2025-09-30T07:03:59.792646Z"
    }
   },
   "outputs": [],
   "source": [
    "paris_listings.dropna(how=\"any\",inplace=True)"
   ]
  },
  {
   "cell_type": "code",
   "execution_count": 379,
   "metadata": {
    "execution": {
     "iopub.execute_input": "2025-09-30T07:03:59.821536Z",
     "iopub.status.busy": "2025-09-30T07:03:59.821282Z",
     "iopub.status.idle": "2025-09-30T07:03:59.854077Z",
     "shell.execute_reply": "2025-09-30T07:03:59.853191Z",
     "shell.execute_reply.started": "2025-09-30T07:03:59.821517Z"
    }
   },
   "outputs": [
    {
     "name": "stdout",
     "output_type": "stream",
     "text": [
      "<class 'pandas.core.frame.DataFrame'>\n",
      "Index: 64657 entries, 0 to 279711\n",
      "Data columns (total 6 columns):\n",
      " #   Column         Non-Null Count  Dtype \n",
      "---  ------         --------------  ----- \n",
      " 0   listing_id     64657 non-null  int64 \n",
      " 1   host_since     64657 non-null  object\n",
      " 2   neighbourhood  64657 non-null  object\n",
      " 3   city           64657 non-null  object\n",
      " 4   accommodates   64657 non-null  int64 \n",
      " 5   price          64657 non-null  int64 \n",
      "dtypes: int64(3), object(3)\n",
      "memory usage: 3.5+ MB\n"
     ]
    }
   ],
   "source": [
    "paris_listings.info()"
   ]
  },
  {
   "cell_type": "code",
   "execution_count": 380,
   "metadata": {
    "execution": {
     "iopub.execute_input": "2025-09-30T07:03:59.855251Z",
     "iopub.status.busy": "2025-09-30T07:03:59.854963Z",
     "iopub.status.idle": "2025-09-30T07:03:59.887045Z",
     "shell.execute_reply": "2025-09-30T07:03:59.885530Z",
     "shell.execute_reply.started": "2025-09-30T07:03:59.855227Z"
    }
   },
   "outputs": [],
   "source": [
    "paris_listings[\"host_since\"]=pd.to_datetime(paris_listings[\"host_since\"])"
   ]
  },
  {
   "cell_type": "code",
   "execution_count": 381,
   "metadata": {
    "execution": {
     "iopub.execute_input": "2025-09-30T07:03:59.888664Z",
     "iopub.status.busy": "2025-09-30T07:03:59.888181Z",
     "iopub.status.idle": "2025-09-30T07:03:59.918847Z",
     "shell.execute_reply": "2025-09-30T07:03:59.918007Z",
     "shell.execute_reply.started": "2025-09-30T07:03:59.888631Z"
    }
   },
   "outputs": [
    {
     "name": "stdout",
     "output_type": "stream",
     "text": [
      "<class 'pandas.core.frame.DataFrame'>\n",
      "Index: 64657 entries, 0 to 279711\n",
      "Data columns (total 6 columns):\n",
      " #   Column         Non-Null Count  Dtype         \n",
      "---  ------         --------------  -----         \n",
      " 0   listing_id     64657 non-null  int64         \n",
      " 1   host_since     64657 non-null  datetime64[ns]\n",
      " 2   neighbourhood  64657 non-null  object        \n",
      " 3   city           64657 non-null  object        \n",
      " 4   accommodates   64657 non-null  int64         \n",
      " 5   price          64657 non-null  int64         \n",
      "dtypes: datetime64[ns](1), int64(3), object(2)\n",
      "memory usage: 3.5+ MB\n"
     ]
    }
   ],
   "source": [
    "paris_listings.info()"
   ]
  },
  {
   "cell_type": "code",
   "execution_count": 382,
   "metadata": {
    "execution": {
     "iopub.execute_input": "2025-09-30T07:03:59.919950Z",
     "iopub.status.busy": "2025-09-30T07:03:59.919675Z",
     "iopub.status.idle": "2025-09-30T07:03:59.956128Z",
     "shell.execute_reply": "2025-09-30T07:03:59.955218Z",
     "shell.execute_reply.started": "2025-09-30T07:03:59.919909Z"
    }
   },
   "outputs": [
    {
     "data": {
      "text/html": [
       "<div>\n",
       "<style scoped>\n",
       "    .dataframe tbody tr th:only-of-type {\n",
       "        vertical-align: middle;\n",
       "    }\n",
       "\n",
       "    .dataframe tbody tr th {\n",
       "        vertical-align: top;\n",
       "    }\n",
       "\n",
       "    .dataframe thead th {\n",
       "        text-align: right;\n",
       "    }\n",
       "</style>\n",
       "<table border=\"1\" class=\"dataframe\">\n",
       "  <thead>\n",
       "    <tr style=\"text-align: right;\">\n",
       "      <th></th>\n",
       "      <th>listing_id</th>\n",
       "      <th>host_since</th>\n",
       "      <th>accommodates</th>\n",
       "      <th>price</th>\n",
       "    </tr>\n",
       "  </thead>\n",
       "  <tbody>\n",
       "    <tr>\n",
       "      <th>count</th>\n",
       "      <td>6.465700e+04</td>\n",
       "      <td>64657</td>\n",
       "      <td>64657.000000</td>\n",
       "      <td>64657.000000</td>\n",
       "    </tr>\n",
       "    <tr>\n",
       "      <th>mean</th>\n",
       "      <td>2.424035e+07</td>\n",
       "      <td>2015-11-01 11:06:05.528867584</td>\n",
       "      <td>3.037877</td>\n",
       "      <td>113.104614</td>\n",
       "    </tr>\n",
       "    <tr>\n",
       "      <th>min</th>\n",
       "      <td>2.577000e+03</td>\n",
       "      <td>2008-08-30 00:00:00</td>\n",
       "      <td>0.000000</td>\n",
       "      <td>0.000000</td>\n",
       "    </tr>\n",
       "    <tr>\n",
       "      <th>25%</th>\n",
       "      <td>1.181517e+07</td>\n",
       "      <td>2014-03-09 00:00:00</td>\n",
       "      <td>2.000000</td>\n",
       "      <td>59.000000</td>\n",
       "    </tr>\n",
       "    <tr>\n",
       "      <th>50%</th>\n",
       "      <td>2.395412e+07</td>\n",
       "      <td>2015-07-07 00:00:00</td>\n",
       "      <td>2.000000</td>\n",
       "      <td>80.000000</td>\n",
       "    </tr>\n",
       "    <tr>\n",
       "      <th>75%</th>\n",
       "      <td>3.721013e+07</td>\n",
       "      <td>2017-05-29 00:00:00</td>\n",
       "      <td>4.000000</td>\n",
       "      <td>120.000000</td>\n",
       "    </tr>\n",
       "    <tr>\n",
       "      <th>max</th>\n",
       "      <td>4.809185e+07</td>\n",
       "      <td>2021-02-07 00:00:00</td>\n",
       "      <td>16.000000</td>\n",
       "      <td>12000.000000</td>\n",
       "    </tr>\n",
       "    <tr>\n",
       "      <th>std</th>\n",
       "      <td>1.432650e+07</td>\n",
       "      <td>NaN</td>\n",
       "      <td>1.588382</td>\n",
       "      <td>214.479626</td>\n",
       "    </tr>\n",
       "  </tbody>\n",
       "</table>\n",
       "</div>"
      ],
      "text/plain": [
       "         listing_id                     host_since  accommodates         price\n",
       "count  6.465700e+04                          64657  64657.000000  64657.000000\n",
       "mean   2.424035e+07  2015-11-01 11:06:05.528867584      3.037877    113.104614\n",
       "min    2.577000e+03            2008-08-30 00:00:00      0.000000      0.000000\n",
       "25%    1.181517e+07            2014-03-09 00:00:00      2.000000     59.000000\n",
       "50%    2.395412e+07            2015-07-07 00:00:00      2.000000     80.000000\n",
       "75%    3.721013e+07            2017-05-29 00:00:00      4.000000    120.000000\n",
       "max    4.809185e+07            2021-02-07 00:00:00     16.000000  12000.000000\n",
       "std    1.432650e+07                            NaN      1.588382    214.479626"
      ]
     },
     "execution_count": 382,
     "metadata": {},
     "output_type": "execute_result"
    }
   ],
   "source": [
    "paris_listings.describe()"
   ]
  },
  {
   "cell_type": "markdown",
   "metadata": {},
   "source": [
    "<div style=\"\n",
    "    background-color: #2e7d32; \n",
    "    color: white; \n",
    "    padding: 15px; \n",
    "    border-radius: 10px; \n",
    "    text-align: center; \n",
    "    font-size: 28px; \n",
    "    font-weight: bold;\n",
    "\">\n",
    "    Removing zeros since they indicate missing data\n",
    "</div>"
   ]
  },
  {
   "cell_type": "code",
   "execution_count": 383,
   "metadata": {
    "execution": {
     "iopub.execute_input": "2025-09-30T07:03:59.957115Z",
     "iopub.status.busy": "2025-09-30T07:03:59.956927Z",
     "iopub.status.idle": "2025-09-30T07:03:59.969563Z",
     "shell.execute_reply": "2025-09-30T07:03:59.968006Z",
     "shell.execute_reply.started": "2025-09-30T07:03:59.957099Z"
    }
   },
   "outputs": [
    {
     "data": {
      "text/html": [
       "<div>\n",
       "<style scoped>\n",
       "    .dataframe tbody tr th:only-of-type {\n",
       "        vertical-align: middle;\n",
       "    }\n",
       "\n",
       "    .dataframe tbody tr th {\n",
       "        vertical-align: top;\n",
       "    }\n",
       "\n",
       "    .dataframe thead th {\n",
       "        text-align: right;\n",
       "    }\n",
       "</style>\n",
       "<table border=\"1\" class=\"dataframe\">\n",
       "  <thead>\n",
       "    <tr style=\"text-align: right;\">\n",
       "      <th></th>\n",
       "      <th>listing_id</th>\n",
       "      <th>host_since</th>\n",
       "      <th>neighbourhood</th>\n",
       "      <th>city</th>\n",
       "      <th>accommodates</th>\n",
       "      <th>price</th>\n",
       "    </tr>\n",
       "  </thead>\n",
       "  <tbody>\n",
       "    <tr>\n",
       "      <th>98209</th>\n",
       "      <td>44312919</td>\n",
       "      <td>2020-07-20</td>\n",
       "      <td>Pantheon</td>\n",
       "      <td>Paris</td>\n",
       "      <td>0</td>\n",
       "      <td>0</td>\n",
       "    </tr>\n",
       "    <tr>\n",
       "      <th>203257</th>\n",
       "      <td>43012882</td>\n",
       "      <td>2020-02-04</td>\n",
       "      <td>Batignolles-Monceau</td>\n",
       "      <td>Paris</td>\n",
       "      <td>0</td>\n",
       "      <td>0</td>\n",
       "    </tr>\n",
       "    <tr>\n",
       "      <th>203258</th>\n",
       "      <td>43035744</td>\n",
       "      <td>2016-10-17</td>\n",
       "      <td>Opera</td>\n",
       "      <td>Paris</td>\n",
       "      <td>0</td>\n",
       "      <td>0</td>\n",
       "    </tr>\n",
       "    <tr>\n",
       "      <th>203259</th>\n",
       "      <td>43274767</td>\n",
       "      <td>2020-04-24</td>\n",
       "      <td>Luxembourg</td>\n",
       "      <td>Paris</td>\n",
       "      <td>0</td>\n",
       "      <td>0</td>\n",
       "    </tr>\n",
       "    <tr>\n",
       "      <th>203260</th>\n",
       "      <td>43274785</td>\n",
       "      <td>2020-04-24</td>\n",
       "      <td>Vaugirard</td>\n",
       "      <td>Paris</td>\n",
       "      <td>0</td>\n",
       "      <td>0</td>\n",
       "    </tr>\n",
       "    <tr>\n",
       "      <th>...</th>\n",
       "      <td>...</td>\n",
       "      <td>...</td>\n",
       "      <td>...</td>\n",
       "      <td>...</td>\n",
       "      <td>...</td>\n",
       "      <td>...</td>\n",
       "    </tr>\n",
       "    <tr>\n",
       "      <th>208881</th>\n",
       "      <td>46000461</td>\n",
       "      <td>2020-10-22</td>\n",
       "      <td>Pantheon</td>\n",
       "      <td>Paris</td>\n",
       "      <td>0</td>\n",
       "      <td>0</td>\n",
       "    </tr>\n",
       "    <tr>\n",
       "      <th>208882</th>\n",
       "      <td>46652813</td>\n",
       "      <td>2020-11-26</td>\n",
       "      <td>Enclos-St-Laurent</td>\n",
       "      <td>Paris</td>\n",
       "      <td>0</td>\n",
       "      <td>0</td>\n",
       "    </tr>\n",
       "    <tr>\n",
       "      <th>208883</th>\n",
       "      <td>46652882</td>\n",
       "      <td>2020-11-26</td>\n",
       "      <td>Vaugirard</td>\n",
       "      <td>Paris</td>\n",
       "      <td>0</td>\n",
       "      <td>0</td>\n",
       "    </tr>\n",
       "    <tr>\n",
       "      <th>208884</th>\n",
       "      <td>47169609</td>\n",
       "      <td>2020-12-21</td>\n",
       "      <td>Vaugirard</td>\n",
       "      <td>Paris</td>\n",
       "      <td>0</td>\n",
       "      <td>0</td>\n",
       "    </tr>\n",
       "    <tr>\n",
       "      <th>212834</th>\n",
       "      <td>43308777</td>\n",
       "      <td>2020-02-03</td>\n",
       "      <td>Enclos-St-Laurent</td>\n",
       "      <td>Paris</td>\n",
       "      <td>0</td>\n",
       "      <td>0</td>\n",
       "    </tr>\n",
       "  </tbody>\n",
       "</table>\n",
       "<p>62 rows × 6 columns</p>\n",
       "</div>"
      ],
      "text/plain": [
       "        listing_id host_since        neighbourhood   city  accommodates  price\n",
       "98209     44312919 2020-07-20             Pantheon  Paris             0      0\n",
       "203257    43012882 2020-02-04  Batignolles-Monceau  Paris             0      0\n",
       "203258    43035744 2016-10-17                Opera  Paris             0      0\n",
       "203259    43274767 2020-04-24           Luxembourg  Paris             0      0\n",
       "203260    43274785 2020-04-24            Vaugirard  Paris             0      0\n",
       "...            ...        ...                  ...    ...           ...    ...\n",
       "208881    46000461 2020-10-22             Pantheon  Paris             0      0\n",
       "208882    46652813 2020-11-26    Enclos-St-Laurent  Paris             0      0\n",
       "208883    46652882 2020-11-26            Vaugirard  Paris             0      0\n",
       "208884    47169609 2020-12-21            Vaugirard  Paris             0      0\n",
       "212834    43308777 2020-02-03    Enclos-St-Laurent  Paris             0      0\n",
       "\n",
       "[62 rows x 6 columns]"
      ]
     },
     "execution_count": 383,
     "metadata": {},
     "output_type": "execute_result"
    }
   ],
   "source": [
    "paris_listings[(paris_listings[\"accommodates\"]==0)| (paris_listings[\"price\"]==0)]"
   ]
  },
  {
   "cell_type": "code",
   "execution_count": 384,
   "metadata": {
    "execution": {
     "iopub.execute_input": "2025-09-30T07:03:59.970754Z",
     "iopub.status.busy": "2025-09-30T07:03:59.970530Z",
     "iopub.status.idle": "2025-09-30T07:03:59.993592Z",
     "shell.execute_reply": "2025-09-30T07:03:59.992301Z",
     "shell.execute_reply.started": "2025-09-30T07:03:59.970733Z"
    }
   },
   "outputs": [],
   "source": [
    "paris_listings=paris_listings[(paris_listings[\"price\"]!=0)]"
   ]
  },
  {
   "cell_type": "code",
   "execution_count": 385,
   "metadata": {
    "execution": {
     "iopub.execute_input": "2025-09-30T07:03:59.994818Z",
     "iopub.status.busy": "2025-09-30T07:03:59.994579Z",
     "iopub.status.idle": "2025-09-30T07:04:00.028163Z",
     "shell.execute_reply": "2025-09-30T07:04:00.027393Z",
     "shell.execute_reply.started": "2025-09-30T07:03:59.994799Z"
    }
   },
   "outputs": [
    {
     "data": {
      "text/html": [
       "<div>\n",
       "<style scoped>\n",
       "    .dataframe tbody tr th:only-of-type {\n",
       "        vertical-align: middle;\n",
       "    }\n",
       "\n",
       "    .dataframe tbody tr th {\n",
       "        vertical-align: top;\n",
       "    }\n",
       "\n",
       "    .dataframe thead th {\n",
       "        text-align: right;\n",
       "    }\n",
       "</style>\n",
       "<table border=\"1\" class=\"dataframe\">\n",
       "  <thead>\n",
       "    <tr style=\"text-align: right;\">\n",
       "      <th></th>\n",
       "      <th>listing_id</th>\n",
       "      <th>host_since</th>\n",
       "      <th>accommodates</th>\n",
       "      <th>price</th>\n",
       "    </tr>\n",
       "  </thead>\n",
       "  <tbody>\n",
       "    <tr>\n",
       "      <th>count</th>\n",
       "      <td>6.459500e+04</td>\n",
       "      <td>64595</td>\n",
       "      <td>64595.000000</td>\n",
       "      <td>64595.000000</td>\n",
       "    </tr>\n",
       "    <tr>\n",
       "      <th>mean</th>\n",
       "      <td>2.422116e+07</td>\n",
       "      <td>2015-10-30 22:46:09.985293056</td>\n",
       "      <td>3.040483</td>\n",
       "      <td>113.213174</td>\n",
       "    </tr>\n",
       "    <tr>\n",
       "      <th>min</th>\n",
       "      <td>2.577000e+03</td>\n",
       "      <td>2008-08-30 00:00:00</td>\n",
       "      <td>1.000000</td>\n",
       "      <td>8.000000</td>\n",
       "    </tr>\n",
       "    <tr>\n",
       "      <th>25%</th>\n",
       "      <td>1.180597e+07</td>\n",
       "      <td>2014-03-09 00:00:00</td>\n",
       "      <td>2.000000</td>\n",
       "      <td>59.000000</td>\n",
       "    </tr>\n",
       "    <tr>\n",
       "      <th>50%</th>\n",
       "      <td>2.392314e+07</td>\n",
       "      <td>2015-07-06 00:00:00</td>\n",
       "      <td>2.000000</td>\n",
       "      <td>80.000000</td>\n",
       "    </tr>\n",
       "    <tr>\n",
       "      <th>75%</th>\n",
       "      <td>3.719008e+07</td>\n",
       "      <td>2017-05-25 00:00:00</td>\n",
       "      <td>4.000000</td>\n",
       "      <td>120.000000</td>\n",
       "    </tr>\n",
       "    <tr>\n",
       "      <th>max</th>\n",
       "      <td>4.809185e+07</td>\n",
       "      <td>2021-02-07 00:00:00</td>\n",
       "      <td>16.000000</td>\n",
       "      <td>12000.000000</td>\n",
       "    </tr>\n",
       "    <tr>\n",
       "      <th>std</th>\n",
       "      <td>1.431989e+07</td>\n",
       "      <td>NaN</td>\n",
       "      <td>1.586691</td>\n",
       "      <td>214.553894</td>\n",
       "    </tr>\n",
       "  </tbody>\n",
       "</table>\n",
       "</div>"
      ],
      "text/plain": [
       "         listing_id                     host_since  accommodates         price\n",
       "count  6.459500e+04                          64595  64595.000000  64595.000000\n",
       "mean   2.422116e+07  2015-10-30 22:46:09.985293056      3.040483    113.213174\n",
       "min    2.577000e+03            2008-08-30 00:00:00      1.000000      8.000000\n",
       "25%    1.180597e+07            2014-03-09 00:00:00      2.000000     59.000000\n",
       "50%    2.392314e+07            2015-07-06 00:00:00      2.000000     80.000000\n",
       "75%    3.719008e+07            2017-05-25 00:00:00      4.000000    120.000000\n",
       "max    4.809185e+07            2021-02-07 00:00:00     16.000000  12000.000000\n",
       "std    1.431989e+07                            NaN      1.586691    214.553894"
      ]
     },
     "execution_count": 385,
     "metadata": {},
     "output_type": "execute_result"
    }
   ],
   "source": [
    "paris_listings.describe()"
   ]
  },
  {
   "cell_type": "code",
   "execution_count": 386,
   "metadata": {
    "execution": {
     "iopub.execute_input": "2025-09-30T07:04:00.029066Z",
     "iopub.status.busy": "2025-09-30T07:04:00.028865Z",
     "iopub.status.idle": "2025-09-30T07:04:00.033155Z",
     "shell.execute_reply": "2025-09-30T07:04:00.032225Z",
     "shell.execute_reply.started": "2025-09-30T07:04:00.029050Z"
    }
   },
   "outputs": [],
   "source": [
    "import matplotlib.pyplot as plt\n",
    "import seaborn as sns\n",
    "from scipy import stats"
   ]
  },
  {
   "cell_type": "markdown",
   "metadata": {},
   "source": [
    "<div style=\"\n",
    "    background-color: #2e7d32; \n",
    "    color: white; \n",
    "    padding: 15px; \n",
    "    border-radius: 10px; \n",
    "    text-align: center; \n",
    "    font-size: 28px; \n",
    "    font-weight: bold;\n",
    "\">\n",
    "    Detecting Outliers\n",
    "</div>\n"
   ]
  },
  {
   "cell_type": "code",
   "execution_count": 387,
   "metadata": {
    "execution": {
     "iopub.execute_input": "2025-09-30T07:04:00.034211Z",
     "iopub.status.busy": "2025-09-30T07:04:00.033964Z",
     "iopub.status.idle": "2025-09-30T07:04:00.153817Z",
     "shell.execute_reply": "2025-09-30T07:04:00.153052Z",
     "shell.execute_reply.started": "2025-09-30T07:04:00.034188Z"
    }
   },
   "outputs": [
    {
     "data": {
      "image/png": "[encoded data removed]",
      "text/plain": [
       "<Figure size 640x480 with 1 Axes>"
      ]
     },
     "metadata": {},
     "output_type": "display_data"
    }
   ],
   "source": [
    "sns.boxplot(paris_listings[\"price\"])\n",
    "plt.show()"
   ]
  },
  {
   "cell_type": "code",
   "execution_count": 388,
   "metadata": {
    "execution": {
     "iopub.execute_input": "2025-09-30T07:04:00.154823Z",
     "iopub.status.busy": "2025-09-30T07:04:00.154619Z",
     "iopub.status.idle": "2025-09-30T07:04:00.265603Z",
     "shell.execute_reply": "2025-09-30T07:04:00.264133Z",
     "shell.execute_reply.started": "2025-09-30T07:04:00.154805Z"
    }
   },
   "outputs": [
    {
     "data": {
      "text/plain": [
       "<Axes: >"
      ]
     },
     "execution_count": 388,
     "metadata": {},
     "output_type": "execute_result"
    },
    {
     "data": {
      "image/png": "[encoded data removed]",
      "text/plain": [
       "<Figure size 640x480 with 1 Axes>"
      ]
     },
     "metadata": {},
     "output_type": "display_data"
    }
   ],
   "source": [
    "sns.boxplot(paris_listings[\"accommodates\"])"
   ]
  },
  {
   "cell_type": "code",
   "execution_count": 389,
   "metadata": {
    "execution": {
     "iopub.execute_input": "2025-09-30T07:04:00.266430Z",
     "iopub.status.busy": "2025-09-30T07:04:00.266176Z",
     "iopub.status.idle": "2025-09-30T07:04:03.790278Z",
     "shell.execute_reply": "2025-09-30T07:04:03.789286Z",
     "shell.execute_reply.started": "2025-09-30T07:04:00.266406Z"
    }
   },
   "outputs": [
    {
     "data": {
      "image/png": "[encoded data removed]",
      "text/plain": [
       "<Figure size 640x480 with 1 Axes>"
      ]
     },
     "metadata": {},
     "output_type": "display_data"
    }
   ],
   "source": [
    "sns.histplot(paris_listings[\"price\"])\n",
    "plt.show()"
   ]
  },
  {
   "cell_type": "code",
   "execution_count": 390,
   "metadata": {
    "execution": {
     "iopub.execute_input": "2025-09-30T07:04:03.791339Z",
     "iopub.status.busy": "2025-09-30T07:04:03.791076Z",
     "iopub.status.idle": "2025-09-30T07:04:03.798530Z",
     "shell.execute_reply": "2025-09-30T07:04:03.796971Z",
     "shell.execute_reply.started": "2025-09-30T07:04:03.791310Z"
    }
   },
   "outputs": [
    {
     "data": {
      "text/plain": [
       "756.8698733534391"
      ]
     },
     "execution_count": 390,
     "metadata": {},
     "output_type": "execute_result"
    }
   ],
   "source": [
    "upper_limit=np.mean(paris_listings[\"price\"])+3*np.std(paris_listings[\"price\"])\n",
    "upper_limit"
   ]
  },
  {
   "cell_type": "markdown",
   "metadata": {
    "execution": {
     "iopub.execute_input": "2025-09-30T06:35:40.154667Z",
     "iopub.status.busy": "2025-09-30T06:35:40.154384Z",
     "iopub.status.idle": "2025-09-30T06:35:40.181075Z",
     "shell.execute_reply": "2025-09-30T06:35:40.179293Z",
     "shell.execute_reply.started": "2025-09-30T06:35:40.154642Z"
    }
   },
   "source": [
    "<div style=\"\n",
    "    background-color: #2e7d32; \n",
    "    color: white; \n",
    "    padding: 15px; \n",
    "    border-radius: 10px; \n",
    "    text-align: center; \n",
    "    font-size: 28px; \n",
    "    font-weight: bold;\n",
    "\">\n",
    "    Removing Properties with Exponentially high prices, 3 Standard Deviation Away\n",
    "</div>\n"
   ]
  },
  {
   "cell_type": "code",
   "execution_count": 391,
   "metadata": {
    "execution": {
     "iopub.execute_input": "2025-09-30T07:04:03.800216Z",
     "iopub.status.busy": "2025-09-30T07:04:03.799917Z",
     "iopub.status.idle": "2025-09-30T07:04:03.819051Z",
     "shell.execute_reply": "2025-09-30T07:04:03.818149Z",
     "shell.execute_reply.started": "2025-09-30T07:04:03.800195Z"
    }
   },
   "outputs": [],
   "source": [
    "#paris_listings[\"price\"].quantile(0.75),paris_listings[\"price\"].quantile(0.50),paris_listings[\"price\"].quantile(0.25)"
   ]
  },
  {
   "cell_type": "code",
   "execution_count": 392,
   "metadata": {
    "execution": {
     "iopub.execute_input": "2025-09-30T07:04:03.820419Z",
     "iopub.status.busy": "2025-09-30T07:04:03.820065Z",
     "iopub.status.idle": "2025-09-30T07:04:03.841750Z",
     "shell.execute_reply": "2025-09-30T07:04:03.840983Z",
     "shell.execute_reply.started": "2025-09-30T07:04:03.820393Z"
    }
   },
   "outputs": [],
   "source": [
    "\n",
    "paris_listings =paris_listings[paris_listings[\"price\"]<upper_limit]"
   ]
  },
  {
   "cell_type": "code",
   "execution_count": 393,
   "metadata": {
    "execution": {
     "iopub.execute_input": "2025-09-30T07:04:03.842934Z",
     "iopub.status.busy": "2025-09-30T07:04:03.842683Z",
     "iopub.status.idle": "2025-09-30T07:04:03.869208Z",
     "shell.execute_reply": "2025-09-30T07:04:03.868337Z",
     "shell.execute_reply.started": "2025-09-30T07:04:03.842920Z"
    }
   },
   "outputs": [
    {
     "data": {
      "text/html": [
       "<div>\n",
       "<style scoped>\n",
       "    .dataframe tbody tr th:only-of-type {\n",
       "        vertical-align: middle;\n",
       "    }\n",
       "\n",
       "    .dataframe tbody tr th {\n",
       "        vertical-align: top;\n",
       "    }\n",
       "\n",
       "    .dataframe thead th {\n",
       "        text-align: right;\n",
       "    }\n",
       "</style>\n",
       "<table border=\"1\" class=\"dataframe\">\n",
       "  <thead>\n",
       "    <tr style=\"text-align: right;\">\n",
       "      <th></th>\n",
       "      <th>listing_id</th>\n",
       "      <th>host_since</th>\n",
       "      <th>accommodates</th>\n",
       "      <th>price</th>\n",
       "    </tr>\n",
       "  </thead>\n",
       "  <tbody>\n",
       "    <tr>\n",
       "      <th>count</th>\n",
       "      <td>6.419200e+04</td>\n",
       "      <td>64192</td>\n",
       "      <td>64192.000000</td>\n",
       "      <td>64192.000000</td>\n",
       "    </tr>\n",
       "    <tr>\n",
       "      <th>mean</th>\n",
       "      <td>2.417964e+07</td>\n",
       "      <td>2015-10-28 06:37:15.643070720</td>\n",
       "      <td>3.018367</td>\n",
       "      <td>103.218376</td>\n",
       "    </tr>\n",
       "    <tr>\n",
       "      <th>min</th>\n",
       "      <td>2.577000e+03</td>\n",
       "      <td>2008-08-30 00:00:00</td>\n",
       "      <td>1.000000</td>\n",
       "      <td>8.000000</td>\n",
       "    </tr>\n",
       "    <tr>\n",
       "      <th>25%</th>\n",
       "      <td>1.176660e+07</td>\n",
       "      <td>2014-03-07 00:00:00</td>\n",
       "      <td>2.000000</td>\n",
       "      <td>59.000000</td>\n",
       "    </tr>\n",
       "    <tr>\n",
       "      <th>50%</th>\n",
       "      <td>2.383710e+07</td>\n",
       "      <td>2015-07-05 00:00:00</td>\n",
       "      <td>2.000000</td>\n",
       "      <td>80.000000</td>\n",
       "    </tr>\n",
       "    <tr>\n",
       "      <th>75%</th>\n",
       "      <td>3.714562e+07</td>\n",
       "      <td>2017-05-20 00:00:00</td>\n",
       "      <td>4.000000</td>\n",
       "      <td>119.000000</td>\n",
       "    </tr>\n",
       "    <tr>\n",
       "      <th>max</th>\n",
       "      <td>4.809185e+07</td>\n",
       "      <td>2021-02-07 00:00:00</td>\n",
       "      <td>16.000000</td>\n",
       "      <td>756.000000</td>\n",
       "    </tr>\n",
       "    <tr>\n",
       "      <th>std</th>\n",
       "      <td>1.431458e+07</td>\n",
       "      <td>NaN</td>\n",
       "      <td>1.528200</td>\n",
       "      <td>81.350333</td>\n",
       "    </tr>\n",
       "  </tbody>\n",
       "</table>\n",
       "</div>"
      ],
      "text/plain": [
       "         listing_id                     host_since  accommodates         price\n",
       "count  6.419200e+04                          64192  64192.000000  64192.000000\n",
       "mean   2.417964e+07  2015-10-28 06:37:15.643070720      3.018367    103.218376\n",
       "min    2.577000e+03            2008-08-30 00:00:00      1.000000      8.000000\n",
       "25%    1.176660e+07            2014-03-07 00:00:00      2.000000     59.000000\n",
       "50%    2.383710e+07            2015-07-05 00:00:00      2.000000     80.000000\n",
       "75%    3.714562e+07            2017-05-20 00:00:00      4.000000    119.000000\n",
       "max    4.809185e+07            2021-02-07 00:00:00     16.000000    756.000000\n",
       "std    1.431458e+07                            NaN      1.528200     81.350333"
      ]
     },
     "execution_count": 393,
     "metadata": {},
     "output_type": "execute_result"
    }
   ],
   "source": [
    "paris_listings.describe()"
   ]
  },
  {
   "cell_type": "markdown",
   "metadata": {},
   "source": [
    "### Data Cleaning Summary\n",
    "\n",
    "- **Initial entries:** 64,690  \n",
    "- **Final entries after cleaning:** 64,192  \n",
    "- **Entries removed:** 498  \n",
    "\n",
    "This means that a total of **498 records** were removed during the cleaning process,  \n",
    "which accounts for only **~0.77% of the dataset**.  \n",
    "\n",
    "The cleaning process therefore preserved the vast majority of data,  \n",
    "while ensuring that inconsistent or invalid records were excluded.\n"
   ]
  },
  {
   "cell_type": "code",
   "execution_count": 394,
   "metadata": {
    "execution": {
     "iopub.execute_input": "2025-09-30T07:04:03.870210Z",
     "iopub.status.busy": "2025-09-30T07:04:03.870000Z",
     "iopub.status.idle": "2025-09-30T07:04:03.893798Z",
     "shell.execute_reply": "2025-09-30T07:04:03.892805Z",
     "shell.execute_reply.started": "2025-09-30T07:04:03.870191Z"
    }
   },
   "outputs": [
    {
     "data": {
      "text/html": [
       "<div>\n",
       "<style scoped>\n",
       "    .dataframe tbody tr th:only-of-type {\n",
       "        vertical-align: middle;\n",
       "    }\n",
       "\n",
       "    .dataframe tbody tr th {\n",
       "        vertical-align: top;\n",
       "    }\n",
       "\n",
       "    .dataframe thead th {\n",
       "        text-align: right;\n",
       "    }\n",
       "</style>\n",
       "<table border=\"1\" class=\"dataframe\">\n",
       "  <thead>\n",
       "    <tr style=\"text-align: right;\">\n",
       "      <th></th>\n",
       "      <th>neighbourhood</th>\n",
       "      <th>city</th>\n",
       "    </tr>\n",
       "  </thead>\n",
       "  <tbody>\n",
       "    <tr>\n",
       "      <th>count</th>\n",
       "      <td>64192</td>\n",
       "      <td>64192</td>\n",
       "    </tr>\n",
       "    <tr>\n",
       "      <th>unique</th>\n",
       "      <td>20</td>\n",
       "      <td>1</td>\n",
       "    </tr>\n",
       "    <tr>\n",
       "      <th>top</th>\n",
       "      <td>Buttes-Montmartre</td>\n",
       "      <td>Paris</td>\n",
       "    </tr>\n",
       "    <tr>\n",
       "      <th>freq</th>\n",
       "      <td>7203</td>\n",
       "      <td>64192</td>\n",
       "    </tr>\n",
       "  </tbody>\n",
       "</table>\n",
       "</div>"
      ],
      "text/plain": [
       "            neighbourhood   city\n",
       "count               64192  64192\n",
       "unique                 20      1\n",
       "top     Buttes-Montmartre  Paris\n",
       "freq                 7203  64192"
      ]
     },
     "execution_count": 394,
     "metadata": {},
     "output_type": "execute_result"
    }
   ],
   "source": [
    "paris_listings.describe(include=\"object\")"
   ]
  },
  {
   "cell_type": "code",
   "execution_count": 395,
   "metadata": {
    "execution": {
     "iopub.execute_input": "2025-09-30T07:04:03.895526Z",
     "iopub.status.busy": "2025-09-30T07:04:03.895296Z",
     "iopub.status.idle": "2025-09-30T07:04:03.922794Z",
     "shell.execute_reply": "2025-09-30T07:04:03.921774Z",
     "shell.execute_reply.started": "2025-09-30T07:04:03.895508Z"
    }
   },
   "outputs": [
    {
     "data": {
      "text/plain": [
       "neighbourhood\n",
       "Buttes-Montmartre      7203\n",
       "Popincourt             6188\n",
       "Vaugirard              4799\n",
       "Enclos-St-Laurent      4598\n",
       "Batignolles-Monceau    4309\n",
       "Menilmontant           3747\n",
       "Buttes-Chaumont        3712\n",
       "Passy                  3158\n",
       "Opera                  3141\n",
       "Temple                 2920\n",
       "Reuilly                2644\n",
       "Observatoire           2471\n",
       "Gobelins               2271\n",
       "Bourse                 2147\n",
       "Pantheon               2127\n",
       "Luxembourg             1975\n",
       "Hotel-de-Ville         1958\n",
       "Palais-Bourbon         1741\n",
       "Elysee                 1694\n",
       "Louvre                 1389\n",
       "Name: count, dtype: int64"
      ]
     },
     "execution_count": 395,
     "metadata": {},
     "output_type": "execute_result"
    }
   ],
   "source": [
    "paris_listings[\"neighbourhood\"].value_counts()"
   ]
  },
  {
   "cell_type": "code",
   "execution_count": 396,
   "metadata": {
    "execution": {
     "iopub.execute_input": "2025-09-30T07:04:03.924739Z",
     "iopub.status.busy": "2025-09-30T07:04:03.923975Z",
     "iopub.status.idle": "2025-09-30T07:04:03.951617Z",
     "shell.execute_reply": "2025-09-30T07:04:03.950375Z",
     "shell.execute_reply.started": "2025-09-30T07:04:03.924704Z"
    }
   },
   "outputs": [],
   "source": [
    "paris_listings_avg_price=paris_listings.groupby(\"neighbourhood\").agg({\"price\":\"mean\"})\n",
    "paris_listings_avg_price.sort_values(\"price\",ascending=False,inplace=True)"
   ]
  },
  {
   "cell_type": "markdown",
   "metadata": {},
   "source": [
    "<div style=\"\n",
    "    background-color: #2e7d32; \n",
    "    color: white; \n",
    "    padding: 15px; \n",
    "    border-radius: 10px; \n",
    "    text-align: center; \n",
    "    font-size: 28px; \n",
    "    font-weight: bold;\n",
    "\">\n",
    "    Looking at the Most relevant Localities in Paris\n",
    "</div>\n"
   ]
  },
  {
   "cell_type": "code",
   "execution_count": 397,
   "metadata": {
    "execution": {
     "iopub.execute_input": "2025-09-30T07:04:03.952928Z",
     "iopub.status.busy": "2025-09-30T07:04:03.952658Z",
     "iopub.status.idle": "2025-09-30T07:04:03.965034Z",
     "shell.execute_reply": "2025-09-30T07:04:03.964087Z",
     "shell.execute_reply.started": "2025-09-30T07:04:03.952902Z"
    }
   },
   "outputs": [
    {
     "data": {
      "text/html": [
       "<div>\n",
       "<style scoped>\n",
       "    .dataframe tbody tr th:only-of-type {\n",
       "        vertical-align: middle;\n",
       "    }\n",
       "\n",
       "    .dataframe tbody tr th {\n",
       "        vertical-align: top;\n",
       "    }\n",
       "\n",
       "    .dataframe thead th {\n",
       "        text-align: right;\n",
       "    }\n",
       "</style>\n",
       "<table border=\"1\" class=\"dataframe\">\n",
       "  <thead>\n",
       "    <tr style=\"text-align: right;\">\n",
       "      <th></th>\n",
       "      <th>price</th>\n",
       "    </tr>\n",
       "    <tr>\n",
       "      <th>neighbourhood</th>\n",
       "      <th></th>\n",
       "    </tr>\n",
       "  </thead>\n",
       "  <tbody>\n",
       "    <tr>\n",
       "      <th>Elysee</th>\n",
       "      <td>170.344746</td>\n",
       "    </tr>\n",
       "    <tr>\n",
       "      <th>Louvre</th>\n",
       "      <td>149.980562</td>\n",
       "    </tr>\n",
       "    <tr>\n",
       "      <th>Luxembourg</th>\n",
       "      <td>144.372658</td>\n",
       "    </tr>\n",
       "    <tr>\n",
       "      <th>Palais-Bourbon</th>\n",
       "      <td>142.155658</td>\n",
       "    </tr>\n",
       "    <tr>\n",
       "      <th>Hotel-de-Ville</th>\n",
       "      <td>137.365169</td>\n",
       "    </tr>\n",
       "    <tr>\n",
       "      <th>Passy</th>\n",
       "      <td>132.595313</td>\n",
       "    </tr>\n",
       "    <tr>\n",
       "      <th>Bourse</th>\n",
       "      <td>132.476479</td>\n",
       "    </tr>\n",
       "    <tr>\n",
       "      <th>Temple</th>\n",
       "      <td>126.439384</td>\n",
       "    </tr>\n",
       "    <tr>\n",
       "      <th>Pantheon</th>\n",
       "      <td>117.982605</td>\n",
       "    </tr>\n",
       "    <tr>\n",
       "      <th>Opera</th>\n",
       "      <td>113.708055</td>\n",
       "    </tr>\n",
       "    <tr>\n",
       "      <th>Vaugirard</th>\n",
       "      <td>99.879767</td>\n",
       "    </tr>\n",
       "    <tr>\n",
       "      <th>Batignolles-Monceau</th>\n",
       "      <td>96.877466</td>\n",
       "    </tr>\n",
       "    <tr>\n",
       "      <th>Enclos-St-Laurent</th>\n",
       "      <td>96.167682</td>\n",
       "    </tr>\n",
       "    <tr>\n",
       "      <th>Observatoire</th>\n",
       "      <td>91.034399</td>\n",
       "    </tr>\n",
       "    <tr>\n",
       "      <th>Popincourt</th>\n",
       "      <td>88.926632</td>\n",
       "    </tr>\n",
       "    <tr>\n",
       "      <th>Reuilly</th>\n",
       "      <td>83.023071</td>\n",
       "    </tr>\n",
       "    <tr>\n",
       "      <th>Gobelins</th>\n",
       "      <td>82.245266</td>\n",
       "    </tr>\n",
       "    <tr>\n",
       "      <th>Buttes-Montmartre</th>\n",
       "      <td>81.133694</td>\n",
       "    </tr>\n",
       "    <tr>\n",
       "      <th>Buttes-Chaumont</th>\n",
       "      <td>72.912985</td>\n",
       "    </tr>\n",
       "    <tr>\n",
       "      <th>Menilmontant</th>\n",
       "      <td>72.410729</td>\n",
       "    </tr>\n",
       "  </tbody>\n",
       "</table>\n",
       "</div>"
      ],
      "text/plain": [
       "                          price\n",
       "neighbourhood                  \n",
       "Elysee               170.344746\n",
       "Louvre               149.980562\n",
       "Luxembourg           144.372658\n",
       "Palais-Bourbon       142.155658\n",
       "Hotel-de-Ville       137.365169\n",
       "Passy                132.595313\n",
       "Bourse               132.476479\n",
       "Temple               126.439384\n",
       "Pantheon             117.982605\n",
       "Opera                113.708055\n",
       "Vaugirard             99.879767\n",
       "Batignolles-Monceau   96.877466\n",
       "Enclos-St-Laurent     96.167682\n",
       "Observatoire          91.034399\n",
       "Popincourt            88.926632\n",
       "Reuilly               83.023071\n",
       "Gobelins              82.245266\n",
       "Buttes-Montmartre     81.133694\n",
       "Buttes-Chaumont       72.912985\n",
       "Menilmontant          72.410729"
      ]
     },
     "execution_count": 397,
     "metadata": {},
     "output_type": "execute_result"
    }
   ],
   "source": [
    "paris_listings_avg_price"
   ]
  },
  {
   "cell_type": "code",
   "execution_count": 398,
   "metadata": {
    "execution": {
     "iopub.execute_input": "2025-09-30T07:04:03.966701Z",
     "iopub.status.busy": "2025-09-30T07:04:03.966276Z",
     "iopub.status.idle": "2025-09-30T07:04:04.230161Z",
     "shell.execute_reply": "2025-09-30T07:04:04.229336Z",
     "shell.execute_reply.started": "2025-09-30T07:04:03.966668Z"
    }
   },
   "outputs": [
    {
     "data": {
      "image/png": "[encoded data removed]",
      "text/plain": [
       "<Figure size 1200x800 with 1 Axes>"
      ]
     },
     "metadata": {},
     "output_type": "display_data"
    }
   ],
   "source": [
    "plt.figure(figsize=(12,8))\n",
    "sns.barplot(data=paris_listings_avg_price,x=\"price\",y=paris_listings_avg_price.index,color=\"#FF5A5F\")\n",
    "plt.xlabel(\"How Expensive? (Euros)\")\n",
    "plt.ylabel(\"Prominebt Neighbourhood With Airbnb\")\n",
    "plt.title(\"neighbourhood in paris {Premium Localities At The Top}\")\n",
    "plt.show()"
   ]
  },
  {
   "cell_type": "markdown",
   "metadata": {},
   "source": [
    "### Insight on Average Nightly Prices by Locality in Paris\n",
    "\n",
    "- The **most expensive areas** are central and prestigious districts such as **Elysee (€170/night)**, **Louvre (€150/night)**, and **Luxembourg (€144/night)**. These neighborhoods are close to iconic landmarks, luxury shopping, and government or cultural institutions, which drives up demand and prices.  \n",
    "\n",
    "- Mid-range prices are seen in areas like **Temple (€126/night)**, **Pantheon (€118/night)**, and **Opera (€114/night)**. These are still popular, but slightly less exclusive compared to the top-tier localities.  \n",
    "\n",
    "- The **more affordable neighborhoods** include **Menilmontant (€72/night)**, **Buttes-Chaumont (€73/night)**, and **Buttes-Montmartre (€81/night)**. These districts are further from the tourist-heavy city center but may appeal to budget-conscious travelers or those seeking a more local experience.  \n",
    "\n",
    "**Overall:** The price gradient reflects proximity to cultural hotspots and affluence of the locality. Central, historic, and tourist-heavy areas command higher prices, while outer neighborhoods offer budget-friendly options.\n"
   ]
  },
  {
   "cell_type": "markdown",
   "metadata": {},
   "source": [
    "<div style=\"\n",
    "    background-color: #2e7d32; \n",
    "    color: white; \n",
    "    padding: 15px; \n",
    "    border-radius: 10px; \n",
    "    text-align: center; \n",
    "    font-size: 28px; \n",
    "    font-weight: bold;\n",
    "\">\n",
    "    Does Price Change as per number of Guests?\n",
    "</div>\n"
   ]
  },
  {
   "cell_type": "code",
   "execution_count": 399,
   "metadata": {
    "execution": {
     "iopub.execute_input": "2025-09-30T07:04:04.231145Z",
     "iopub.status.busy": "2025-09-30T07:04:04.230926Z",
     "iopub.status.idle": "2025-09-30T07:04:04.242881Z",
     "shell.execute_reply": "2025-09-30T07:04:04.241512Z",
     "shell.execute_reply.started": "2025-09-30T07:04:04.231125Z"
    }
   },
   "outputs": [
    {
     "data": {
      "text/html": [
       "<div>\n",
       "<style scoped>\n",
       "    .dataframe tbody tr th:only-of-type {\n",
       "        vertical-align: middle;\n",
       "    }\n",
       "\n",
       "    .dataframe tbody tr th {\n",
       "        vertical-align: top;\n",
       "    }\n",
       "\n",
       "    .dataframe thead th {\n",
       "        text-align: right;\n",
       "    }\n",
       "</style>\n",
       "<table border=\"1\" class=\"dataframe\">\n",
       "  <thead>\n",
       "    <tr style=\"text-align: right;\">\n",
       "      <th></th>\n",
       "      <th>price</th>\n",
       "    </tr>\n",
       "    <tr>\n",
       "      <th>accommodates</th>\n",
       "      <th></th>\n",
       "    </tr>\n",
       "  </thead>\n",
       "  <tbody>\n",
       "    <tr>\n",
       "      <th>13</th>\n",
       "      <td>475.000000</td>\n",
       "    </tr>\n",
       "    <tr>\n",
       "      <th>14</th>\n",
       "      <td>438.125000</td>\n",
       "    </tr>\n",
       "    <tr>\n",
       "      <th>11</th>\n",
       "      <td>419.880000</td>\n",
       "    </tr>\n",
       "    <tr>\n",
       "      <th>12</th>\n",
       "      <td>394.542373</td>\n",
       "    </tr>\n",
       "    <tr>\n",
       "      <th>15</th>\n",
       "      <td>337.250000</td>\n",
       "    </tr>\n",
       "    <tr>\n",
       "      <th>9</th>\n",
       "      <td>335.807229</td>\n",
       "    </tr>\n",
       "    <tr>\n",
       "      <th>10</th>\n",
       "      <td>329.181818</td>\n",
       "    </tr>\n",
       "    <tr>\n",
       "      <th>8</th>\n",
       "      <td>271.515510</td>\n",
       "    </tr>\n",
       "    <tr>\n",
       "      <th>7</th>\n",
       "      <td>231.254902</td>\n",
       "    </tr>\n",
       "    <tr>\n",
       "      <th>16</th>\n",
       "      <td>213.117647</td>\n",
       "    </tr>\n",
       "    <tr>\n",
       "      <th>6</th>\n",
       "      <td>197.684241</td>\n",
       "    </tr>\n",
       "    <tr>\n",
       "      <th>5</th>\n",
       "      <td>157.655578</td>\n",
       "    </tr>\n",
       "    <tr>\n",
       "      <th>4</th>\n",
       "      <td>118.330048</td>\n",
       "    </tr>\n",
       "    <tr>\n",
       "      <th>3</th>\n",
       "      <td>95.861606</td>\n",
       "    </tr>\n",
       "    <tr>\n",
       "      <th>2</th>\n",
       "      <td>78.913514</td>\n",
       "    </tr>\n",
       "    <tr>\n",
       "      <th>1</th>\n",
       "      <td>55.750155</td>\n",
       "    </tr>\n",
       "  </tbody>\n",
       "</table>\n",
       "</div>"
      ],
      "text/plain": [
       "                   price\n",
       "accommodates            \n",
       "13            475.000000\n",
       "14            438.125000\n",
       "11            419.880000\n",
       "12            394.542373\n",
       "15            337.250000\n",
       "9             335.807229\n",
       "10            329.181818\n",
       "8             271.515510\n",
       "7             231.254902\n",
       "16            213.117647\n",
       "6             197.684241\n",
       "5             157.655578\n",
       "4             118.330048\n",
       "3              95.861606\n",
       "2              78.913514\n",
       "1              55.750155"
      ]
     },
     "execution_count": 399,
     "metadata": {},
     "output_type": "execute_result"
    }
   ],
   "source": [
    "paris_listings_accommodates=paris_listings.groupby(\"accommodates\").agg({\"price\":\"mean\"})\n",
    "paris_listings_accommodates.sort_values(\"price\",ascending=False,inplace=True)\n",
    "\n",
    "paris_listings_accommodates"
   ]
  },
  {
   "cell_type": "markdown",
   "metadata": {},
   "source": [
    "### Insight on Accommodation Capacity and Average Prices\n",
    "\n",
    "- As expected, listings that accommodate **more guests** tend to have **higher nightly prices**.  \n",
    "  - Small units for **1–2 guests** are the cheapest, averaging around **€56–79/night**.  \n",
    "  - Medium-sized listings for **4–6 guests** range from **€118–198/night**.  \n",
    "  - Large properties hosting **10+ guests** are much more expensive, often exceeding **€300/night**.\n",
    "\n",
    "- The **highest average prices** are for large group accommodations:  \n",
    "  - **13 guests: €475/night**  \n",
    "  - **14 guests: €438/night**  \n",
    "  - **11 guests: €420/night**  \n",
    "\n",
    "- Interestingly, beyond a certain point (e.g., 15–16 guests), the average price does not continue to rise proportionally, suggesting a niche but limited demand for **very large properties**.\n",
    "\n",
    "**Overall:** Prices scale with accommodation size, but the relationship is not perfectly linear. Small apartments dominate budget travel, while large listings cater to premium or group stays, commanding much higher rates.\n"
   ]
  },
  {
   "cell_type": "code",
   "execution_count": 400,
   "metadata": {
    "execution": {
     "iopub.execute_input": "2025-09-30T07:04:04.244599Z",
     "iopub.status.busy": "2025-09-30T07:04:04.244140Z",
     "iopub.status.idle": "2025-09-30T07:04:04.519021Z",
     "shell.execute_reply": "2025-09-30T07:04:04.518187Z",
     "shell.execute_reply.started": "2025-09-30T07:04:04.244567Z"
    }
   },
   "outputs": [
    {
     "data": {
      "image/png": "[encoded data removed]",
      "text/plain": [
       "<Figure size 1200x800 with 1 Axes>"
      ]
     },
     "metadata": {},
     "output_type": "display_data"
    }
   ],
   "source": [
    "plt.figure(figsize=(12,8))\n",
    "sns.scatterplot(x=\"accommodates\",y=\"price\",data=paris_listings_accommodates,s=100,color=\"blue\")\n",
    "# Add a trendline\n",
    "sns.regplot(x=paris_listings_accommodates.index, y=\"price\", data=paris_listings_accommodates, scatter=False, color=\"red\", line_kws={\"linewidth\":2})\n",
    "\n",
    "plt.title(\"Average Airbnb Price vs. Number of Guests Accommodated\", fontsize=14, fontweight=\"bold\") \n",
    "plt.xlabel(\"Number of Guests (Accommodates)\")\n",
    "\n",
    "plt.ylabel(\"Average Price (€)\")\n",
    "\n",
    "plt.grid(alpha=0.3)\n",
    "plt.show()"
   ]
  },
  {
   "cell_type": "code",
   "execution_count": 401,
   "metadata": {
    "execution": {
     "iopub.execute_input": "2025-09-30T07:04:04.520061Z",
     "iopub.status.busy": "2025-09-30T07:04:04.519827Z",
     "iopub.status.idle": "2025-09-30T07:04:04.718239Z",
     "shell.execute_reply": "2025-09-30T07:04:04.717246Z",
     "shell.execute_reply.started": "2025-09-30T07:04:04.520042Z"
    }
   },
   "outputs": [
    {
     "data": {
      "image/png": "[encoded data removed]",
      "text/plain": [
       "<Figure size 1200x800 with 1 Axes>"
      ]
     },
     "metadata": {},
     "output_type": "display_data"
    }
   ],
   "source": [
    "plt.figure(figsize = (12,8))\n",
    "sns.barplot(data = paris_listings_accommodates,\n",
    "           x = \"price\",\n",
    "           y = paris_listings_accommodates.index, color = \"#00A699\",\n",
    "           orient = \"h\",order = paris_listings_accommodates.index)\n",
    "plt.title(\"Average Price as per Accomodates allowed\")\n",
    "plt.xlabel(\"How Expensive? (Euros)\")\n",
    "plt.ylabel(\"Number of Guests\")\n",
    "plt.show()"
   ]
  },
  {
   "cell_type": "markdown",
   "metadata": {},
   "source": [
    "<div style=\"\n",
    "    background-color: #2e7d32; \n",
    "    color: white; \n",
    "    padding: 15px; \n",
    "    border-radius: 10px; \n",
    "    text-align: center; \n",
    "    font-size: 28px; \n",
    "    font-weight: bold;\n",
    "\">\n",
    "    Extracting Year to see time series Analysis of Price and New Host Joining\n",
    "</div>\n"
   ]
  },
  {
   "cell_type": "code",
   "execution_count": 402,
   "metadata": {
    "execution": {
     "iopub.execute_input": "2025-09-30T07:04:04.722397Z",
     "iopub.status.busy": "2025-09-30T07:04:04.722113Z",
     "iopub.status.idle": "2025-09-30T07:04:04.730347Z",
     "shell.execute_reply": "2025-09-30T07:04:04.728788Z",
     "shell.execute_reply.started": "2025-09-30T07:04:04.722374Z"
    }
   },
   "outputs": [],
   "source": [
    "paris_listings[\"year_of_listings\"]=paris_listings[\"host_since\"].dt.year"
   ]
  },
  {
   "cell_type": "code",
   "execution_count": 403,
   "metadata": {
    "execution": {
     "iopub.execute_input": "2025-09-30T07:04:04.731866Z",
     "iopub.status.busy": "2025-09-30T07:04:04.731572Z",
     "iopub.status.idle": "2025-09-30T07:04:04.755978Z",
     "shell.execute_reply": "2025-09-30T07:04:04.755150Z",
     "shell.execute_reply.started": "2025-09-30T07:04:04.731840Z"
    }
   },
   "outputs": [
    {
     "data": {
      "text/html": [
       "<div>\n",
       "<style scoped>\n",
       "    .dataframe tbody tr th:only-of-type {\n",
       "        vertical-align: middle;\n",
       "    }\n",
       "\n",
       "    .dataframe tbody tr th {\n",
       "        vertical-align: top;\n",
       "    }\n",
       "\n",
       "    .dataframe thead th {\n",
       "        text-align: right;\n",
       "    }\n",
       "</style>\n",
       "<table border=\"1\" class=\"dataframe\">\n",
       "  <thead>\n",
       "    <tr style=\"text-align: right;\">\n",
       "      <th></th>\n",
       "      <th>listing_id</th>\n",
       "      <th>host_since</th>\n",
       "      <th>neighbourhood</th>\n",
       "      <th>city</th>\n",
       "      <th>accommodates</th>\n",
       "      <th>price</th>\n",
       "      <th>year_of_listings</th>\n",
       "    </tr>\n",
       "  </thead>\n",
       "  <tbody>\n",
       "    <tr>\n",
       "      <th>0</th>\n",
       "      <td>281420</td>\n",
       "      <td>2011-12-03</td>\n",
       "      <td>Buttes-Montmartre</td>\n",
       "      <td>Paris</td>\n",
       "      <td>2</td>\n",
       "      <td>53</td>\n",
       "      <td>2011</td>\n",
       "    </tr>\n",
       "    <tr>\n",
       "      <th>1</th>\n",
       "      <td>3705183</td>\n",
       "      <td>2013-11-29</td>\n",
       "      <td>Buttes-Montmartre</td>\n",
       "      <td>Paris</td>\n",
       "      <td>2</td>\n",
       "      <td>120</td>\n",
       "      <td>2013</td>\n",
       "    </tr>\n",
       "    <tr>\n",
       "      <th>2</th>\n",
       "      <td>4082273</td>\n",
       "      <td>2014-07-31</td>\n",
       "      <td>Elysee</td>\n",
       "      <td>Paris</td>\n",
       "      <td>2</td>\n",
       "      <td>89</td>\n",
       "      <td>2014</td>\n",
       "    </tr>\n",
       "    <tr>\n",
       "      <th>3</th>\n",
       "      <td>4797344</td>\n",
       "      <td>2013-12-17</td>\n",
       "      <td>Vaugirard</td>\n",
       "      <td>Paris</td>\n",
       "      <td>2</td>\n",
       "      <td>58</td>\n",
       "      <td>2013</td>\n",
       "    </tr>\n",
       "    <tr>\n",
       "      <th>4</th>\n",
       "      <td>4823489</td>\n",
       "      <td>2014-12-14</td>\n",
       "      <td>Passy</td>\n",
       "      <td>Paris</td>\n",
       "      <td>2</td>\n",
       "      <td>60</td>\n",
       "      <td>2014</td>\n",
       "    </tr>\n",
       "  </tbody>\n",
       "</table>\n",
       "</div>"
      ],
      "text/plain": [
       "   listing_id host_since      neighbourhood   city  accommodates  price  \\\n",
       "0      281420 2011-12-03  Buttes-Montmartre  Paris             2     53   \n",
       "1     3705183 2013-11-29  Buttes-Montmartre  Paris             2    120   \n",
       "2     4082273 2014-07-31             Elysee  Paris             2     89   \n",
       "3     4797344 2013-12-17          Vaugirard  Paris             2     58   \n",
       "4     4823489 2014-12-14              Passy  Paris             2     60   \n",
       "\n",
       "   year_of_listings  \n",
       "0              2011  \n",
       "1              2013  \n",
       "2              2014  \n",
       "3              2013  \n",
       "4              2014  "
      ]
     },
     "execution_count": 403,
     "metadata": {},
     "output_type": "execute_result"
    }
   ],
   "source": [
    "paris_listings.head()"
   ]
  },
  {
   "cell_type": "code",
   "execution_count": 404,
   "metadata": {
    "execution": {
     "iopub.execute_input": "2025-09-30T07:04:04.757540Z",
     "iopub.status.busy": "2025-09-30T07:04:04.757049Z",
     "iopub.status.idle": "2025-09-30T07:04:04.782572Z",
     "shell.execute_reply": "2025-09-30T07:04:04.781206Z",
     "shell.execute_reply.started": "2025-09-30T07:04:04.757454Z"
    }
   },
   "outputs": [],
   "source": [
    "paris_listings_final_analysis = paris_listings.groupby(\"year_of_listings\").agg({\n",
    "    \"listing_id\":\"count\",\n",
    "    \"price\":\"mean\"\n",
    "})"
   ]
  },
  {
   "cell_type": "markdown",
   "metadata": {},
   "source": [
    "### Why Use the *host_since* Column?\n",
    "\n",
    "The **`host_since`** column records the date when a host first listed their property on Airbnb.  \n",
    "Analyzing this column can provide valuable business insights because:\n",
    "\n",
    "- **Market Entry Timing**: It shows when new hosts are joining the platform, which reflects Airbnb’s growth phases.  \n",
    "- **Host Experience**: Longer tenure may correlate with more reliable hosts and better reviews, whereas recent hosts might need onboarding support.  \n",
    "- **Business Cycles**: Peaks in new host sign-ups can indicate favorable periods for the short-term rental business (e.g., tourism booms, policy changes, or high-demand seasons).  \n",
    "- **Impact of Regulations**: Sudden drops in new host listings may highlight external factors such as regulations or economic conditions affecting supply.  \n",
    "\n",
    "In short, **tracking the `host_since` column helps identify the best times when the Airbnb business environment was most attractive for new entrants**, which can act as a proxy for \"good times\" in the market."
   ]
  },
  {
   "cell_type": "code",
   "execution_count": 405,
   "metadata": {
    "execution": {
     "iopub.execute_input": "2025-09-30T07:04:04.784116Z",
     "iopub.status.busy": "2025-09-30T07:04:04.783782Z",
     "iopub.status.idle": "2025-09-30T07:04:04.805492Z",
     "shell.execute_reply": "2025-09-30T07:04:04.804349Z",
     "shell.execute_reply.started": "2025-09-30T07:04:04.784087Z"
    }
   },
   "outputs": [
    {
     "data": {
      "text/html": [
       "<div>\n",
       "<style scoped>\n",
       "    .dataframe tbody tr th:only-of-type {\n",
       "        vertical-align: middle;\n",
       "    }\n",
       "\n",
       "    .dataframe tbody tr th {\n",
       "        vertical-align: top;\n",
       "    }\n",
       "\n",
       "    .dataframe thead th {\n",
       "        text-align: right;\n",
       "    }\n",
       "</style>\n",
       "<table border=\"1\" class=\"dataframe\">\n",
       "  <thead>\n",
       "    <tr style=\"text-align: right;\">\n",
       "      <th></th>\n",
       "      <th>listing_id</th>\n",
       "      <th>price</th>\n",
       "    </tr>\n",
       "    <tr>\n",
       "      <th>year_of_listings</th>\n",
       "      <th></th>\n",
       "      <th></th>\n",
       "    </tr>\n",
       "  </thead>\n",
       "  <tbody>\n",
       "    <tr>\n",
       "      <th>2008</th>\n",
       "      <td>4</td>\n",
       "      <td>77.750000</td>\n",
       "    </tr>\n",
       "    <tr>\n",
       "      <th>2009</th>\n",
       "      <td>105</td>\n",
       "      <td>142.114286</td>\n",
       "    </tr>\n",
       "    <tr>\n",
       "      <th>2010</th>\n",
       "      <td>415</td>\n",
       "      <td>120.995181</td>\n",
       "    </tr>\n",
       "    <tr>\n",
       "      <th>2011</th>\n",
       "      <td>1333</td>\n",
       "      <td>109.597149</td>\n",
       "    </tr>\n",
       "    <tr>\n",
       "      <th>2012</th>\n",
       "      <td>4576</td>\n",
       "      <td>107.654283</td>\n",
       "    </tr>\n",
       "    <tr>\n",
       "      <th>2013</th>\n",
       "      <td>8128</td>\n",
       "      <td>104.295153</td>\n",
       "    </tr>\n",
       "    <tr>\n",
       "      <th>2014</th>\n",
       "      <td>10889</td>\n",
       "      <td>96.403067</td>\n",
       "    </tr>\n",
       "    <tr>\n",
       "      <th>2015</th>\n",
       "      <td>12100</td>\n",
       "      <td>96.397438</td>\n",
       "    </tr>\n",
       "    <tr>\n",
       "      <th>2016</th>\n",
       "      <td>8767</td>\n",
       "      <td>100.576366</td>\n",
       "    </tr>\n",
       "    <tr>\n",
       "      <th>2017</th>\n",
       "      <td>4553</td>\n",
       "      <td>100.466506</td>\n",
       "    </tr>\n",
       "    <tr>\n",
       "      <th>2018</th>\n",
       "      <td>4252</td>\n",
       "      <td>114.871119</td>\n",
       "    </tr>\n",
       "    <tr>\n",
       "      <th>2019</th>\n",
       "      <td>5615</td>\n",
       "      <td>113.016207</td>\n",
       "    </tr>\n",
       "    <tr>\n",
       "      <th>2020</th>\n",
       "      <td>3322</td>\n",
       "      <td>115.336243</td>\n",
       "    </tr>\n",
       "    <tr>\n",
       "      <th>2021</th>\n",
       "      <td>133</td>\n",
       "      <td>93.488722</td>\n",
       "    </tr>\n",
       "  </tbody>\n",
       "</table>\n",
       "</div>"
      ],
      "text/plain": [
       "                  listing_id       price\n",
       "year_of_listings                        \n",
       "2008                       4   77.750000\n",
       "2009                     105  142.114286\n",
       "2010                     415  120.995181\n",
       "2011                    1333  109.597149\n",
       "2012                    4576  107.654283\n",
       "2013                    8128  104.295153\n",
       "2014                   10889   96.403067\n",
       "2015                   12100   96.397438\n",
       "2016                    8767  100.576366\n",
       "2017                    4553  100.466506\n",
       "2018                    4252  114.871119\n",
       "2019                    5615  113.016207\n",
       "2020                    3322  115.336243\n",
       "2021                     133   93.488722"
      ]
     },
     "execution_count": 405,
     "metadata": {},
     "output_type": "execute_result"
    }
   ],
   "source": [
    "paris_listings_final_analysis"
   ]
  },
  {
   "cell_type": "code",
   "execution_count": 406,
   "metadata": {
    "execution": {
     "iopub.execute_input": "2025-09-30T07:04:04.806828Z",
     "iopub.status.busy": "2025-09-30T07:04:04.806530Z",
     "iopub.status.idle": "2025-09-30T07:04:05.736622Z",
     "shell.execute_reply": "2025-09-30T07:04:05.735689Z",
     "shell.execute_reply.started": "2025-09-30T07:04:04.806801Z"
    }
   },
   "outputs": [
    {
     "data": {
      "image/png": "[encoded data removed]",
      "text/plain": [
       "<Figure size 1200x600 with 1 Axes>"
      ]
     },
     "metadata": {},
     "output_type": "display_data"
    }
   ],
   "source": [
    "plt.figure(figsize=(12,6))\n",
    "sns.lineplot(data=paris_listings_final_analysis ,y=\"listing_id\",x=paris_listings_final_analysis.index,marker='o',linestyle='--')\n",
    "plt.title(\"No of new airbnb in paris over time\",fontsize=16,fontweight=\"bold\",pad=15)\n",
    "plt.ylabel(\"No of New Linstings\")\n",
    "plt.xlabel(\"Year of Linstings\")\n",
    "plt.grid()\n",
    "\n",
    "plt.xticks(paris_listings_final_analysis.index,rotation=50)\n",
    "plt.show()"
   ]
  },
  {
   "cell_type": "markdown",
   "metadata": {},
   "source": [
    "### Insight on Airbnb Listings Over Time\n",
    "\n",
    "- From **2008 to 2015**, the number of new Airbnb listings in Paris grew rapidly, peaking around **2015–2016** with more than 12,000 new hosts entering the market. This indicates a period of **high attractiveness and strong growth** for Airbnb, with both **supply (hosts)** and **demand (customers)** expanding significantly.  \n",
    "\n",
    "- Starting in **2017**, there is a sharp decline in the number of new listings. This coincides with the **regulation imposed in Paris in 2017** that aimed to control short-term rentals due to housing shortages. The regulation clearly discouraged many new hosts from entering the market, leading to a **reduction in supply growth**.  \n",
    "\n",
    "- The continued decline after 2017 suggests that the **barriers to entry remained high**, keeping potential new hosts from joining. On the demand side, while tourists and customers likely still sought Airbnbs, the **limited supply growth** would have constrained options and potentially increased prices.  \n",
    "\n",
    "**Overall:**  \n",
    "- **Pre-2017:** Strong growth in both supply (hosts) and demand (customers).  \n",
    "- **Post-2017:** Regulation led to a slowdown in host entry, reducing supply expansion, even though customer demand likely remained steady or growing.\n"
   ]
  },
  {
   "cell_type": "code",
   "execution_count": 407,
   "metadata": {
    "execution": {
     "iopub.execute_input": "2025-09-30T07:04:05.737658Z",
     "iopub.status.busy": "2025-09-30T07:04:05.737463Z",
     "iopub.status.idle": "2025-09-30T07:04:05.949553Z",
     "shell.execute_reply": "2025-09-30T07:04:05.948087Z",
     "shell.execute_reply.started": "2025-09-30T07:04:05.737643Z"
    }
   },
   "outputs": [
    {
     "data": {
      "text/plain": [
       "Text(0, 0.5, 'Average Price (€)')"
      ]
     },
     "execution_count": 407,
     "metadata": {},
     "output_type": "execute_result"
    },
    {
     "data": {
      "image/png": "[encoded data removed]",
      "text/plain": [
       "<Figure size 1200x800 with 1 Axes>"
      ]
     },
     "metadata": {},
     "output_type": "display_data"
    }
   ],
   "source": [
    "plt.figure(figsize=(12,8))\n",
    "sns.lineplot(\n",
    "    x=\"year_of_listings\",\n",
    "    y=\"price\",\n",
    "    data=paris_listings_final_analysis,\n",
    "    marker=\"o\",\n",
    "    linewidth=2.5,\n",
    "    color=\"teal\"\n",
    ")\n",
    "plt.title(\"Average Airbnb in Paris Over Time\",fontsize=16,fontweight=\"bold\",pad=15)\n",
    "plt.xlabel(\"Year of Listings\")\n",
    "plt.ylabel(\"Average Price (€)\")"
   ]
  },
  {
   "cell_type": "markdown",
   "metadata": {},
   "source": [
    "### Insight on Average Airbnb Prices Over Time\n",
    "\n",
    "- **2008–2009:** Prices started relatively low (~€78) but spiked sharply in 2009 to over **€140**, possibly reflecting early market scarcity and premium pricing when Airbnb first entered Paris.  \n",
    "\n",
    "- **2010–2014:** A consistent **downward trend** is visible, with average prices falling from ~€121 to ~€96. This suggests **increasing competition and supply** as more hosts entered the market, leading to price normalization.  \n",
    "\n",
    "- **2015–2017:** Prices stabilized at just under €100–€101/night, marking a period of equilibrium between supply growth and customer demand.  \n",
    "\n",
    "- **2018–2020:** Prices rose again to around **€115/night**, despite stricter **2017 regulations**. With supply growth slowing, fewer new listings may have pushed average prices upward as demand remained strong.  \n",
    "\n",
    "- **2021 onwards:** A decline back toward ~€93 is visible, possibly reflecting **pandemic-related demand shocks** and a temporary oversupply compared to lower travel activity.  \n",
    "\n",
    "**Overall:**  \n",
    "- In the **early years**, scarcity kept prices high.  \n",
    "- As supply expanded, **competition drove prices down**.  \n",
    "- **Regulation (2017)** limited supply growth, causing a **price rebound**.  \n",
    "- **Pandemic effects** likely caused the post-2020 decline.  \n"
   ]
  },
  {
   "cell_type": "code",
   "execution_count": 408,
   "metadata": {
    "execution": {
     "iopub.execute_input": "2025-09-30T07:04:05.950630Z",
     "iopub.status.busy": "2025-09-30T07:04:05.950434Z",
     "iopub.status.idle": "2025-09-30T07:04:06.371923Z",
     "shell.execute_reply": "2025-09-30T07:04:06.370991Z",
     "shell.execute_reply.started": "2025-09-30T07:04:05.950613Z"
    }
   },
   "outputs": [
    {
     "data": {
      "image/png": "[encoded data removed]",
      "text/plain": [
       "<Figure size 1200x800 with 2 Axes>"
      ]
     },
     "metadata": {},
     "output_type": "display_data"
    }
   ],
   "source": [
    "\n",
    "fig, ax = plt.subplots(figsize=(12,8))\n",
    "\n",
    "# Plot number of listings (left y-axis)\n",
    "ax.plot(\n",
    "    paris_listings_final_analysis.index, \n",
    "    paris_listings_final_analysis[\"listing_id\"], \n",
    "    color=\"teal\", linewidth=2.5, marker=\"o\", label=\"Number of Listings\"\n",
    ")\n",
    "ax.set_xlabel(\"Year of Listing\", fontsize=14)\n",
    "ax.set_ylabel(\"Number of New Listings\", fontsize=14, color=\"teal\")\n",
    "ax.tick_params(axis=\"y\", labelcolor=\"teal\")\n",
    "\n",
    "# Secondary y-axis for price\n",
    "ax2 = ax.twinx()\n",
    "ax2.plot(\n",
    "    paris_listings_final_analysis.index, \n",
    "    paris_listings_final_analysis[\"price\"], \n",
    "    color=\"darkorange\", linewidth=2.5, marker=\"s\", label=\"Average Price (€)\"\n",
    ")\n",
    "ax2.set_ylabel(\"Average Price (€)\", fontsize=14, color=\"darkorange\")\n",
    "ax2.tick_params(axis=\"y\", labelcolor=\"darkorange\")\n",
    "ax2.set_ylim(0)\n",
    "\n",
    "# Titles and grid\n",
    "plt.title(\"Airbnb Listings vs. Average Price in Paris (2008–2021)\", fontsize=18, fontweight=\"bold\", pad=15)\n",
    "ax.grid(alpha=0.3, linestyle=\"--\")\n",
    "\n",
    "# Highlight regulation year (2017)\n",
    "ax.axvline(x=2017, color=\"red\", linestyle=\"--\", linewidth=2, alpha=0.8, label=\"Regulation (2017)\")\n",
    "\n",
    "# Shade post-2017 period\n",
    "ax.axvspan(2017, paris_listings_final_analysis.index.max(), color=\"red\", alpha=0.1)\n",
    "\n",
    "# Add text inside shaded area\n",
    "ax.text(\n",
    "    2017.5, \n",
    "    ax.get_ylim()[1]*0.9,   # position text near the top of shaded area\n",
    "    \"Post-regulation era\", \n",
    "    color=\"red\", fontsize=13, fontweight=\"bold\"\n",
    ")\n",
    "\n",
    "# ---- Annotations ----\n",
    "# Peak in listings (2015–2016)\n",
    "peak_year = paris_listings_final_analysis[\"listing_id\"].idxmax()\n",
    "peak_val = paris_listings_final_analysis[\"listing_id\"].max()\n",
    "ax.annotate(\n",
    "    f\"Peak Listings\\n({peak_year}: {peak_val:,})\",\n",
    "    xy=(peak_year, peak_val),\n",
    "    xytext=(peak_year-2, peak_val+2000),\n",
    "    arrowprops=dict(arrowstyle=\"->\", color=\"teal\"),\n",
    "    fontsize=12, color=\"teal\"\n",
    ")\n",
    "\n",
    "# Lowest price point (2014)\n",
    "low_year = paris_listings_final_analysis[\"price\"].idxmin()\n",
    "low_val = paris_listings_final_analysis[\"price\"].min()\n",
    "ax2.annotate(\n",
    "    f\"Lowest Price\\n({low_year}: €{low_val:.0f})\",\n",
    "    xy=(low_year, low_val),\n",
    "    xytext=(low_year+1, low_val-15),\n",
    "    arrowprops=dict(arrowstyle=\"->\", color=\"darkorange\"),\n",
    "    fontsize=12, color=\"darkorange\"\n",
    ")\n",
    "# Price rebound post-2017\n",
    "ax2.annotate(\n",
    "    \"Price rebound\\npost-regulation\",\n",
    "    xy=(2018, paris_listings_final_analysis.loc[2018, \"price\"]),\n",
    "    xytext=(2014.5, 130),\n",
    "    arrowprops=dict(arrowstyle=\"->\", color=\"darkorange\"),\n",
    "    fontsize=12, color=\"darkorange\"\n",
    ")\n",
    "\n",
    "# Legends\n",
    "lines, labels = ax.get_legend_handles_labels()\n",
    "lines2, labels2 = ax2.get_legend_handles_labels()\n",
    "ax.legend(lines + lines2, labels + labels2, fontsize=12, loc=\"upper left\")\n",
    "\n",
    "plt.tight_layout()\n",
    "plt.show()\n"
   ]
  },
  {
   "cell_type": "markdown",
   "metadata": {},
   "source": [
    "## Final Insights and Recommendations\n",
    "\n",
    "### Key Insights\n",
    "1. **Strong Growth Pre-2017**  \n",
    "   - Paris experienced rapid growth in Airbnb listings between 2008–2016, peaking in 2015–2016.  \n",
    "   - This reflects high demand and strong attractiveness of the short-term rental market.  \n",
    "\n",
    "2. **Impact of 2017 Regulations**  \n",
    "   - The number of new hosts dropped sharply after the 2017 regulations that restricted short-term rentals.  \n",
    "   - While demand from travelers remained steady, the reduced inflow of hosts slowed supply growth.  \n",
    "\n",
    "3. **Price Dynamics**  \n",
    "   - Average prices decreased between 2010–2014 due to increased competition from new hosts.  \n",
    "   - Post-2017, prices rebounded as supply growth slowed, suggesting a supply-demand imbalance.  \n",
    "   - During the pandemic (2020–2021), prices declined again due to demand shocks.  \n",
    "\n",
    "4. **Locality-Based Trends**  \n",
    "   - Central, prestigious areas (Louvre, Elysee, Luxembourg) command premium prices.  \n",
    "   - Outer neighborhoods (Menilmontant, Buttes-Chaumont) remain more affordable, appealing to budget travelers.  \n",
    "\n",
    "5. **Accommodation Capacity**  \n",
    "   - Prices scale with the number of guests a listing can accommodate, but not proportionally.  \n",
    "   - Large properties (10+ guests) cater to a niche segment, with very high average nightly prices.  \n",
    "\n",
    "---\n",
    "\n",
    "### Recommendations for the Business\n",
    "1. **Focus on High-Demand Localities**  \n",
    "   - Prioritize investments and partnerships in central, premium areas where demand is strongest and prices are resilient.  \n",
    "   - Simultaneously, target budget-friendly neighborhoods to attract cost-sensitive travelers.\n",
    "\n",
    " 2. **Leverage Supply-Demand Gap Post-2017**  \n",
    "   - With stricter entry for new hosts, existing hosts can capture greater market share.  \n",
    "   - Encourage quality improvements and unique value-adds (professional photos, amenities, flexible check-in) to stand out.  \n",
    "\n",
    "3. **Diversify Accommodation Sizes**  \n",
    "   - Promote medium-capacity listings (3–6 guests) that balance affordability and profitability.  \n",
    "   - Large properties should be marketed as group or family stays, potentially bundling with experiences.  \n",
    "\n",
    "4. **Dynamic Pricing Strategy**  \n",
    "   - Implement data-driven pricing models that account for seasonality, locality, and capacity.  \n",
    "   - Post-pandemic recovery presents an opportunity to adjust prices as travel demand rebounds.  \n",
    "\n",
    "5. **Customer-Centric Growth**  \n",
    "   - Enhance guest experience through verified reviews, safety measures, and customer support.  \n",
    "   - Focus on repeat customers and long-term stays, especially in regulatory-constrained markets.  \n",
    "\n",
    "6. **Policy Adaptation**  \n",
    "   - Stay agile in response to local regulations.  \n",
    "   - Explore partnerships or compliance-based strategies (e.g., registered professional hosting) to maintain competitiveness.  \n",
    "\n",
    "---\n",
    "\n",
    "✅ **Overall:** Paris Airbnb experienced strong growth until 2017, after which regulations constrained supply. Demand has remained steady, pushing prices higher post-regulation. Businesses should focus on **balancing premium and budget offerings, adopting dynamic pricing, and aligning with regulatory frameworks** to remain competitive in this evolving market."
   ]
  },
  {
   "cell_type": "markdown",
   "metadata": {
    "execution": {
     "iopub.execute_input": "2025-09-30T06:36:58.250394Z",
     "iopub.status.busy": "2025-09-30T06:36:58.250145Z",
     "iopub.status.idle": "2025-09-30T06:36:58.256282Z",
     "shell.execute_reply": "2025-09-30T06:36:58.255240Z",
     "shell.execute_reply.started": "2025-09-30T06:36:58.250375Z"
    }
   },
   "source": [
    "<div style=\"background-color:#2e7d32; padding:25px; border-radius:12px; text-align:center;\">\n",
    "  <h1 style=\"color:white;\">✅ Thank You</h1>\n",
    "  <p style=\"color:white; font-size:18px;\">\n",
    "    We appreciate your time reviewing this analysis.<br>\n",
    "    For any questions or discussions, feel free to connect.\n",
    "  </p>\n",
    "</div>\n",
    "\n",
    "<p style=\"text-align:center; color:gray; font-size:14px; margin-top:10px;\">\n",
    "  Airbnb Paris Analysis | 2025\n",
    "</p>\n"
   ]
  }
 ],
 "metadata": {
  "kaggle": {
   "accelerator": "none",
   "dataSources": [
    {
     "datasetId": 1530930,
     "sourceId": 2526818,
     "sourceType": "datasetVersion"
    }
   ],
   "dockerImageVersionId": 31089,
   "isGpuEnabled": false,
   "isInternetEnabled": false,
   "language": "python",
   "sourceType": "notebook"
  },
  "kernelspec": {
   "display_name": "Python 3 (ipykernel)",
   "language": "python",
   "name": "python3"
  },
  "language_info": {
   "codemirror_mode": {
    "name": "ipython",
    "version": 3
   },
   "file_extension": ".py",
   "mimetype": "text/x-python",
   "name": "python",
   "nbconvert_exporter": "python",
   "pygments_lexer": "ipython3",
   "version": "3.13.5"
  }
 },
 "nbformat": 4,
 "nbformat_minor": 4
}
